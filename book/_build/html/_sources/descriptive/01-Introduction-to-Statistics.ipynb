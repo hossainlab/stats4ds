{
 "cells": [
  {
   "cell_type": "markdown",
   "metadata": {},
   "source": [
    "# Introduction to Statistics: Definitions"
   ]
  },
  {
   "cell_type": "markdown",
   "metadata": {},
   "source": [
    "### Definition–1: What is Statistics?\n",
    "Statistics is the discipline that concerns the collection, organization, analysis, interpretation\n",
    "and presentation of data. In applying statistics to a scientific, industrial, or social problem,\n",
    "it is conventional to begin with a statistical population or a statistical model to be studied. <br>\n",
    "(Source: https://en.wikipedia.org/wiki/Statistics)"
   ]
  },
  {
   "cell_type": "markdown",
   "metadata": {},
   "source": [
    "### Definition–2: What is Statistics?\n",
    "Simply, Statistics is a branch of mathematics that deals with collecting, organizing, analyz-\n",
    "ing, and interpreting data. <br>\n",
    "(Source: https://app.pluralsight.com/library/courses/interpreting-data-descriptive-statistics-python/)"
   ]
  },
  {
   "cell_type": "markdown",
   "metadata": {},
   "source": [
    "### Definition–3: What is Biostatistics?\n",
    "Biostatistics is the application of statistics to a variety of topics in biology. In this course, we\n",
    "tend to focus on biological topics in the health sciences as we learn about statistics. <br>\n",
    "(Source:\n",
    "https://bolt.mph.ufl.edu/6050-6052/)"
   ]
  },
  {
   "cell_type": "markdown",
   "metadata": {},
   "source": [
    "### Definition–4: What is Biostatistics?\n",
    "Biostatistics is the application of statistics to problems in the biological sciences, health,\n",
    "and medicine. <br>\n",
    "(Source: https://ocw.jhsph.edu/index.cfm/go/viewCourse/course/MethodsInBiostatisticsI/)"
   ]
  },
  {
   "cell_type": "markdown",
   "metadata": {},
   "source": [
    "### What is Data?"
   ]
  },
  {
   "cell_type": "markdown",
   "metadata": {},
   "source": [
    "**Definition–1:** Data is a collection of facts, such as numbers, images, words,\n",
    "measurements, observations, audios, videos or just descriptions of things."
   ]
  },
  {
   "cell_type": "markdown",
   "metadata": {},
   "source": [
    "**Definition–2:** Data is a tool to reach suitable conclusion."
   ]
  },
  {
   "cell_type": "markdown",
   "metadata": {},
   "source": [
    "![data](../img/data.png)"
   ]
  },
  {
   "cell_type": "markdown",
   "metadata": {},
   "source": [
    "(https://www.edureka.co/blog/statistics-and-probability/)"
   ]
  },
  {
   "cell_type": "markdown",
   "metadata": {},
   "source": [
    "### Data can be Anything!\n",
    "- Data can be numbers\n",
    "- Data can be images \n",
    "- Data can be words or texts\n",
    "- Data can be audio and videos "
   ]
  },
  {
   "cell_type": "markdown",
   "metadata": {},
   "source": [
    "### Sources of Data \n",
    "- Primary sources of data.\n",
    "- Secondary sources of data."
   ]
  },
  {
   "cell_type": "markdown",
   "metadata": {},
   "source": [
    "### Primary Sources of Data \n",
    "- Collection of data from source of origin.\n",
    "- Conducting interviews, experimentation.\n",
    "- Provide first hand information."
   ]
  },
  {
   "cell_type": "markdown",
   "metadata": {},
   "source": [
    "### Secondary Sources of Data \n",
    "- Collection of data from agency which already has collected data and processed it.\n",
    "- Conducting interviews, experimentation"
   ]
  }
 ],
 "metadata": {
  "kernelspec": {
   "display_name": "Python 3",
   "language": "python",
   "name": "python3"
  },
  "language_info": {
   "codemirror_mode": {
    "name": "ipython",
    "version": 3
   },
   "file_extension": ".py",
   "mimetype": "text/x-python",
   "name": "python",
   "nbconvert_exporter": "python",
   "pygments_lexer": "ipython3",
   "version": "3.8.3"
  },
  "latex_envs": {
   "LaTeX_envs_menu_present": true,
   "autoclose": false,
   "autocomplete": true,
   "bibliofile": "biblio.bib",
   "cite_by": "apalike",
   "current_citInitial": 1,
   "eqLabelWithNumbers": true,
   "eqNumInitial": 1,
   "hotkeys": {
    "equation": "Ctrl-E",
    "itemize": "Ctrl-I"
   },
   "labels_anchors": false,
   "latex_user_defs": false,
   "report_style_numbering": false,
   "user_envs_cfg": false
  }
 },
 "nbformat": 4,
 "nbformat_minor": 4
}
