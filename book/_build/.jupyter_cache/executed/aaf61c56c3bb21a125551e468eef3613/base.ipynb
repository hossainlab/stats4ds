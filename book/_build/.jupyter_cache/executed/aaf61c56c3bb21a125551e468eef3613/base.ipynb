{
 "cells": [
  {
   "cell_type": "code",
   "execution_count": 1,
   "metadata": {},
   "outputs": [
    {
     "name": "stdout",
     "output_type": "stream",
     "text": [
      "Requirement already up-to-date: scipy in /home/jubayer/anaconda3/envs/dsn-template/lib/python3.7/site-packages (1.5.4)\r\n",
      "Requirement already satisfied, skipping upgrade: numpy>=1.14.5 in /home/jubayer/.local/lib/python3.7/site-packages (from scipy) (1.19.2)\r\n"
     ]
    },
    {
     "name": "stdout",
     "output_type": "stream",
     "text": [
      "\u001b[33mWARNING: You are using pip version 20.2.3; however, version 20.3.1 is available.\r\n",
      "You should consider upgrading via the '/home/jubayer/anaconda3/envs/dsn-template/bin/python3.7 -m pip install --upgrade pip' command.\u001b[0m\r\n"
     ]
    }
   ],
   "source": [
    "!pip install -U scipy"
   ]
  },
  {
   "cell_type": "code",
   "execution_count": 2,
   "metadata": {},
   "outputs": [
    {
     "name": "stdout",
     "output_type": "stream",
     "text": [
      "Collecting statsmodels\r\n"
     ]
    },
    {
     "name": "stdout",
     "output_type": "stream",
     "text": [
      "  Downloading statsmodels-0.12.1-cp37-cp37m-manylinux1_x86_64.whl (9.5 MB)\r\n",
      "\u001b[?25l\r",
      "\u001b[K     |                                | 10 kB 5.8 MB/s eta 0:00:02"
     ]
    },
    {
     "name": "stdout",
     "output_type": "stream",
     "text": [
      "\r",
      "\u001b[K     |                                | 20 kB 140 kB/s eta 0:01:08\r",
      "\u001b[K     |                                | 30 kB 200 kB/s eta 0:00:48\r",
      "\u001b[K     |▏                               | 40 kB 258 kB/s eta 0:00:37\r",
      "\u001b[K     |▏                               | 51 kB 316 kB/s eta 0:00:30\r",
      "\u001b[K     |▏                               | 61 kB 368 kB/s eta 0:00:26\r",
      "\u001b[K     |▎                               | 71 kB 420 kB/s eta 0:00:23\r",
      "\u001b[K     |▎                               | 81 kB 470 kB/s eta 0:00:20\r",
      "\u001b[K     |▎                               | 92 kB 517 kB/s eta 0:00:19"
     ]
    },
    {
     "name": "stdout",
     "output_type": "stream",
     "text": [
      "\r",
      "\u001b[K     |▍                               | 102 kB 539 kB/s eta 0:00:18\r",
      "\u001b[K     |▍                               | 112 kB 539 kB/s eta 0:00:18\r",
      "\u001b[K     |▍                               | 122 kB 539 kB/s eta 0:00:18\r",
      "\u001b[K     |▌                               | 133 kB 539 kB/s eta 0:00:18\r",
      "\u001b[K     |▌                               | 143 kB 539 kB/s eta 0:00:18"
     ]
    },
    {
     "name": "stdout",
     "output_type": "stream",
     "text": [
      "\r",
      "\u001b[K     |▌                               | 153 kB 539 kB/s eta 0:00:18\r",
      "\u001b[K     |▌                               | 163 kB 539 kB/s eta 0:00:18\r",
      "\u001b[K     |▋                               | 174 kB 539 kB/s eta 0:00:18\r",
      "\u001b[K     |▋                               | 184 kB 539 kB/s eta 0:00:18\r",
      "\u001b[K     |▋                               | 194 kB 539 kB/s eta 0:00:18\r",
      "\u001b[K     |▊                               | 204 kB 539 kB/s eta 0:00:18\r",
      "\u001b[K     |▊                               | 215 kB 539 kB/s eta 0:00:18\r",
      "\u001b[K     |▊                               | 225 kB 539 kB/s eta 0:00:18"
     ]
    },
    {
     "name": "stdout",
     "output_type": "stream",
     "text": [
      "\r",
      "\u001b[K     |▉                               | 235 kB 539 kB/s eta 0:00:18\r",
      "\u001b[K     |▉                               | 245 kB 539 kB/s eta 0:00:18\r",
      "\u001b[K     |▉                               | 256 kB 539 kB/s eta 0:00:18\r",
      "\u001b[K     |█                               | 266 kB 539 kB/s eta 0:00:18\r",
      "\u001b[K     |█                               | 276 kB 539 kB/s eta 0:00:18\r",
      "\u001b[K     |█                               | 286 kB 539 kB/s eta 0:00:18"
     ]
    },
    {
     "name": "stdout",
     "output_type": "stream",
     "text": [
      "\r",
      "\u001b[K     |█                               | 296 kB 539 kB/s eta 0:00:17\r",
      "\u001b[K     |█                               | 307 kB 539 kB/s eta 0:00:17"
     ]
    },
    {
     "name": "stdout",
     "output_type": "stream",
     "text": [
      "\r",
      "\u001b[K     |█                               | 317 kB 539 kB/s eta 0:00:17\r",
      "\u001b[K     |█                               | 327 kB 539 kB/s eta 0:00:17\r",
      "\u001b[K     |█▏                              | 337 kB 539 kB/s eta 0:00:17\r",
      "\u001b[K     |█▏                              | 348 kB 539 kB/s eta 0:00:17\r",
      "\u001b[K     |█▏                              | 358 kB 539 kB/s eta 0:00:17\r",
      "\u001b[K     |█▎                              | 368 kB 539 kB/s eta 0:00:17"
     ]
    },
    {
     "name": "stdout",
     "output_type": "stream",
     "text": [
      "\r",
      "\u001b[K     |█▎                              | 378 kB 539 kB/s eta 0:00:17\r",
      "\u001b[K     |█▎                              | 389 kB 539 kB/s eta 0:00:17\r",
      "\u001b[K     |█▍                              | 399 kB 539 kB/s eta 0:00:17\r",
      "\u001b[K     |█▍                              | 409 kB 539 kB/s eta 0:00:17\r",
      "\u001b[K     |█▍                              | 419 kB 539 kB/s eta 0:00:17\r",
      "\u001b[K     |█▌                              | 430 kB 539 kB/s eta 0:00:17\r",
      "\u001b[K     |█▌                              | 440 kB 539 kB/s eta 0:00:17"
     ]
    },
    {
     "name": "stdout",
     "output_type": "stream",
     "text": [
      "\r",
      "\u001b[K     |█▌                              | 450 kB 539 kB/s eta 0:00:17\r",
      "\u001b[K     |█▋                              | 460 kB 539 kB/s eta 0:00:17\r",
      "\u001b[K     |█▋                              | 471 kB 539 kB/s eta 0:00:17\r",
      "\u001b[K     |█▋                              | 481 kB 539 kB/s eta 0:00:17\r",
      "\u001b[K     |█▋                              | 491 kB 539 kB/s eta 0:00:17\r",
      "\u001b[K     |█▊                              | 501 kB 539 kB/s eta 0:00:17"
     ]
    },
    {
     "name": "stdout",
     "output_type": "stream",
     "text": [
      "\r",
      "\u001b[K     |█▊                              | 512 kB 539 kB/s eta 0:00:17\r",
      "\u001b[K     |█▊                              | 522 kB 539 kB/s eta 0:00:17\r",
      "\u001b[K     |█▉                              | 532 kB 539 kB/s eta 0:00:17\r",
      "\u001b[K     |█▉                              | 542 kB 539 kB/s eta 0:00:17\r",
      "\u001b[K     |█▉                              | 552 kB 539 kB/s eta 0:00:17\r",
      "\u001b[K     |██                              | 563 kB 539 kB/s eta 0:00:17\r",
      "\u001b[K     |██                              | 573 kB 539 kB/s eta 0:00:17\r",
      "\u001b[K     |██                              | 583 kB 539 kB/s eta 0:00:17\r",
      "\u001b[K     |██                              | 593 kB 539 kB/s eta 0:00:17\r",
      "\u001b[K     |██                              | 604 kB 539 kB/s eta 0:00:17"
     ]
    },
    {
     "name": "stdout",
     "output_type": "stream",
     "text": [
      "\r",
      "\u001b[K     |██                              | 614 kB 539 kB/s eta 0:00:17\r",
      "\u001b[K     |██▏                             | 624 kB 539 kB/s eta 0:00:17\r",
      "\u001b[K     |██▏                             | 634 kB 539 kB/s eta 0:00:17"
     ]
    },
    {
     "name": "stdout",
     "output_type": "stream",
     "text": [
      "\r",
      "\u001b[K     |██▏                             | 645 kB 539 kB/s eta 0:00:17\r",
      "\u001b[K     |██▏                             | 655 kB 539 kB/s eta 0:00:17\r",
      "\u001b[K     |██▎                             | 665 kB 539 kB/s eta 0:00:17"
     ]
    },
    {
     "name": "stdout",
     "output_type": "stream",
     "text": [
      "\r",
      "\u001b[K     |██▎                             | 675 kB 539 kB/s eta 0:00:17\r",
      "\u001b[K     |██▎                             | 686 kB 539 kB/s eta 0:00:17\r",
      "\u001b[K     |██▍                             | 696 kB 539 kB/s eta 0:00:17\r",
      "\u001b[K     |██▍                             | 706 kB 539 kB/s eta 0:00:17\r",
      "\u001b[K     |██▍                             | 716 kB 539 kB/s eta 0:00:17"
     ]
    },
    {
     "name": "stdout",
     "output_type": "stream",
     "text": [
      "\r",
      "\u001b[K     |██▌                             | 727 kB 539 kB/s eta 0:00:17\r",
      "\u001b[K     |██▌                             | 737 kB 539 kB/s eta 0:00:17\r",
      "\u001b[K     |██▌                             | 747 kB 539 kB/s eta 0:00:17\r",
      "\u001b[K     |██▋                             | 757 kB 539 kB/s eta 0:00:17\r",
      "\u001b[K     |██▋                             | 768 kB 539 kB/s eta 0:00:17\r",
      "\u001b[K     |██▋                             | 778 kB 539 kB/s eta 0:00:17\r",
      "\u001b[K     |██▋                             | 788 kB 539 kB/s eta 0:00:17\r",
      "\u001b[K     |██▊                             | 798 kB 539 kB/s eta 0:00:17"
     ]
    },
    {
     "name": "stdout",
     "output_type": "stream",
     "text": [
      "\r",
      "\u001b[K     |██▊                             | 808 kB 539 kB/s eta 0:00:17\r",
      "\u001b[K     |██▊                             | 819 kB 539 kB/s eta 0:00:17\r",
      "\u001b[K     |██▉                             | 829 kB 539 kB/s eta 0:00:17\r",
      "\u001b[K     |██▉                             | 839 kB 539 kB/s eta 0:00:16\r",
      "\u001b[K     |██▉                             | 849 kB 539 kB/s eta 0:00:16\r",
      "\u001b[K     |███                             | 860 kB 539 kB/s eta 0:00:16\r",
      "\u001b[K     |███                             | 870 kB 539 kB/s eta 0:00:16\r",
      "\u001b[K     |███                             | 880 kB 539 kB/s eta 0:00:16"
     ]
    },
    {
     "name": "stdout",
     "output_type": "stream",
     "text": [
      "\r",
      "\u001b[K     |███                             | 890 kB 539 kB/s eta 0:00:16\r",
      "\u001b[K     |███                             | 901 kB 539 kB/s eta 0:00:16\r",
      "\u001b[K     |███                             | 911 kB 539 kB/s eta 0:00:16"
     ]
    },
    {
     "name": "stdout",
     "output_type": "stream",
     "text": [
      "\r",
      "\u001b[K     |███▏                            | 921 kB 539 kB/s eta 0:00:16\r",
      "\u001b[K     |███▏                            | 931 kB 539 kB/s eta 0:00:16"
     ]
    },
    {
     "name": "stdout",
     "output_type": "stream",
     "text": [
      "\r",
      "\u001b[K     |███▏                            | 942 kB 539 kB/s eta 0:00:16\r",
      "\u001b[K     |███▏                            | 952 kB 539 kB/s eta 0:00:16\r",
      "\u001b[K     |███▎                            | 962 kB 539 kB/s eta 0:00:16\r",
      "\u001b[K     |███▎                            | 972 kB 539 kB/s eta 0:00:16\r",
      "\u001b[K     |███▎                            | 983 kB 539 kB/s eta 0:00:16\r",
      "\u001b[K     |███▍                            | 993 kB 539 kB/s eta 0:00:16\r",
      "\u001b[K     |███▍                            | 1.0 MB 539 kB/s eta 0:00:16\r",
      "\u001b[K     |███▍                            | 1.0 MB 539 kB/s eta 0:00:16"
     ]
    },
    {
     "name": "stdout",
     "output_type": "stream",
     "text": [
      "\r",
      "\u001b[K     |███▌                            | 1.0 MB 539 kB/s eta 0:00:16\r",
      "\u001b[K     |███▌                            | 1.0 MB 539 kB/s eta 0:00:16\r",
      "\u001b[K     |███▌                            | 1.0 MB 539 kB/s eta 0:00:16\r",
      "\u001b[K     |███▋                            | 1.1 MB 539 kB/s eta 0:00:16\r",
      "\u001b[K     |███▋                            | 1.1 MB 539 kB/s eta 0:00:16\r",
      "\u001b[K     |███▋                            | 1.1 MB 539 kB/s eta 0:00:16\r",
      "\u001b[K     |███▊                            | 1.1 MB 539 kB/s eta 0:00:16\r",
      "\u001b[K     |███▊                            | 1.1 MB 539 kB/s eta 0:00:16\r",
      "\u001b[K     |███▊                            | 1.1 MB 539 kB/s eta 0:00:16"
     ]
    },
    {
     "name": "stdout",
     "output_type": "stream",
     "text": [
      "\r",
      "\u001b[K     |███▊                            | 1.1 MB 539 kB/s eta 0:00:16\r",
      "\u001b[K     |███▉                            | 1.1 MB 539 kB/s eta 0:00:16\r",
      "\u001b[K     |███▉                            | 1.1 MB 539 kB/s eta 0:00:16\r",
      "\u001b[K     |███▉                            | 1.1 MB 539 kB/s eta 0:00:16\r",
      "\u001b[K     |████                            | 1.2 MB 539 kB/s eta 0:00:16\r",
      "\u001b[K     |████                            | 1.2 MB 539 kB/s eta 0:00:16\r",
      "\u001b[K     |████                            | 1.2 MB 539 kB/s eta 0:00:16"
     ]
    },
    {
     "name": "stdout",
     "output_type": "stream",
     "text": [
      "\r",
      "\u001b[K     |████                            | 1.2 MB 539 kB/s eta 0:00:16\r",
      "\u001b[K     |████                            | 1.2 MB 1.0 MB/s eta 0:00:08\r",
      "\u001b[K     |████                            | 1.2 MB 1.0 MB/s eta 0:00:08\r",
      "\u001b[K     |████▏                           | 1.2 MB 1.0 MB/s eta 0:00:08\r",
      "\u001b[K     |████▏                           | 1.2 MB 1.0 MB/s eta 0:00:08\r",
      "\u001b[K     |████▏                           | 1.2 MB 1.0 MB/s eta 0:00:08\r",
      "\u001b[K     |████▎                           | 1.2 MB 1.0 MB/s eta 0:00:08\r",
      "\u001b[K     |████▎                           | 1.3 MB 1.0 MB/s eta 0:00:08"
     ]
    },
    {
     "name": "stdout",
     "output_type": "stream",
     "text": [
      "\r",
      "\u001b[K     |████▎                           | 1.3 MB 1.0 MB/s eta 0:00:08\r",
      "\u001b[K     |████▎                           | 1.3 MB 1.0 MB/s eta 0:00:08\r",
      "\u001b[K     |████▍                           | 1.3 MB 1.0 MB/s eta 0:00:08"
     ]
    },
    {
     "name": "stdout",
     "output_type": "stream",
     "text": [
      "\r",
      "\u001b[K     |████▍                           | 1.3 MB 1.0 MB/s eta 0:00:08\r",
      "\u001b[K     |████▍                           | 1.3 MB 1.0 MB/s eta 0:00:08\r",
      "\u001b[K     |████▌                           | 1.3 MB 1.0 MB/s eta 0:00:08\r",
      "\u001b[K     |████▌                           | 1.3 MB 1.0 MB/s eta 0:00:08\r",
      "\u001b[K     |████▌                           | 1.3 MB 1.0 MB/s eta 0:00:08\r",
      "\u001b[K     |████▋                           | 1.4 MB 1.0 MB/s eta 0:00:08\r",
      "\u001b[K     |████▋                           | 1.4 MB 1.0 MB/s eta 0:00:08\r",
      "\u001b[K     |████▋                           | 1.4 MB 1.0 MB/s eta 0:00:08\r",
      "\u001b[K     |████▊                           | 1.4 MB 1.0 MB/s eta 0:00:08\r",
      "\u001b[K     |████▊                           | 1.4 MB 1.0 MB/s eta 0:00:08"
     ]
    },
    {
     "name": "stdout",
     "output_type": "stream",
     "text": [
      "\r",
      "\u001b[K     |████▊                           | 1.4 MB 1.0 MB/s eta 0:00:08\r",
      "\u001b[K     |████▉                           | 1.4 MB 1.0 MB/s eta 0:00:08\r",
      "\u001b[K     |████▉                           | 1.4 MB 1.0 MB/s eta 0:00:08\r",
      "\u001b[K     |████▉                           | 1.4 MB 1.0 MB/s eta 0:00:08"
     ]
    },
    {
     "name": "stdout",
     "output_type": "stream",
     "text": [
      "\r",
      "\u001b[K     |████▉                           | 1.4 MB 1.0 MB/s eta 0:00:08\r",
      "\u001b[K     |█████                           | 1.5 MB 1.0 MB/s eta 0:00:08\r",
      "\u001b[K     |█████                           | 1.5 MB 1.0 MB/s eta 0:00:08\r",
      "\u001b[K     |█████                           | 1.5 MB 1.0 MB/s eta 0:00:08\r",
      "\u001b[K     |█████                           | 1.5 MB 1.0 MB/s eta 0:00:08\r",
      "\u001b[K     |█████                           | 1.5 MB 1.0 MB/s eta 0:00:08\r",
      "\u001b[K     |█████                           | 1.5 MB 1.0 MB/s eta 0:00:08"
     ]
    },
    {
     "name": "stdout",
     "output_type": "stream",
     "text": [
      "\r",
      "\u001b[K     |█████▏                          | 1.5 MB 1.0 MB/s eta 0:00:08\r",
      "\u001b[K     |█████▏                          | 1.5 MB 1.0 MB/s eta 0:00:08\r",
      "\u001b[K     |█████▏                          | 1.5 MB 1.0 MB/s eta 0:00:08\r",
      "\u001b[K     |█████▎                          | 1.5 MB 1.0 MB/s eta 0:00:08\r",
      "\u001b[K     |█████▎                          | 1.6 MB 1.0 MB/s eta 0:00:08\r",
      "\u001b[K     |█████▎                          | 1.6 MB 1.0 MB/s eta 0:00:08\r",
      "\u001b[K     |█████▎                          | 1.6 MB 1.0 MB/s eta 0:00:08\r",
      "\u001b[K     |█████▍                          | 1.6 MB 1.0 MB/s eta 0:00:08\r",
      "\u001b[K     |█████▍                          | 1.6 MB 1.0 MB/s eta 0:00:08"
     ]
    },
    {
     "name": "stdout",
     "output_type": "stream",
     "text": [
      "\r",
      "\u001b[K     |█████▍                          | 1.6 MB 1.0 MB/s eta 0:00:08\r",
      "\u001b[K     |█████▌                          | 1.6 MB 1.0 MB/s eta 0:00:08\r",
      "\u001b[K     |█████▌                          | 1.6 MB 1.0 MB/s eta 0:00:08\r",
      "\u001b[K     |█████▌                          | 1.6 MB 1.0 MB/s eta 0:00:08\r",
      "\u001b[K     |█████▋                          | 1.6 MB 1.0 MB/s eta 0:00:08\r",
      "\u001b[K     |█████▋                          | 1.7 MB 1.0 MB/s eta 0:00:08\r",
      "\u001b[K     |█████▋                          | 1.7 MB 1.0 MB/s eta 0:00:08\r",
      "\u001b[K     |█████▊                          | 1.7 MB 1.0 MB/s eta 0:00:08"
     ]
    },
    {
     "name": "stdout",
     "output_type": "stream",
     "text": [
      "\r",
      "\u001b[K     |█████▊                          | 1.7 MB 1.0 MB/s eta 0:00:08\r",
      "\u001b[K     |█████▊                          | 1.7 MB 1.0 MB/s eta 0:00:08\r",
      "\u001b[K     |█████▉                          | 1.7 MB 1.0 MB/s eta 0:00:08\r",
      "\u001b[K     |█████▉                          | 1.7 MB 1.0 MB/s eta 0:00:08\r",
      "\u001b[K     |█████▉                          | 1.7 MB 1.0 MB/s eta 0:00:08\r",
      "\u001b[K     |█████▉                          | 1.7 MB 1.0 MB/s eta 0:00:08\r",
      "\u001b[K     |██████                          | 1.8 MB 1.0 MB/s eta 0:00:08\r",
      "\u001b[K     |██████                          | 1.8 MB 1.0 MB/s eta 0:00:08\r",
      "\u001b[K     |██████                          | 1.8 MB 1.0 MB/s eta 0:00:08\r",
      "\u001b[K     |██████                          | 1.8 MB 1.0 MB/s eta 0:00:08"
     ]
    },
    {
     "name": "stdout",
     "output_type": "stream",
     "text": [
      "\r",
      "\u001b[K     |██████                          | 1.8 MB 1.0 MB/s eta 0:00:08\r",
      "\u001b[K     |██████                          | 1.8 MB 1.0 MB/s eta 0:00:08\r",
      "\u001b[K     |██████▏                         | 1.8 MB 1.0 MB/s eta 0:00:08\r",
      "\u001b[K     |██████▏                         | 1.8 MB 1.0 MB/s eta 0:00:08\r",
      "\u001b[K     |██████▏                         | 1.8 MB 1.0 MB/s eta 0:00:08\r",
      "\u001b[K     |██████▎                         | 1.8 MB 1.0 MB/s eta 0:00:08"
     ]
    },
    {
     "name": "stdout",
     "output_type": "stream",
     "text": [
      "\r",
      "\u001b[K     |██████▎                         | 1.9 MB 1.0 MB/s eta 0:00:08\r",
      "\u001b[K     |██████▎                         | 1.9 MB 1.0 MB/s eta 0:00:08\r",
      "\u001b[K     |██████▍                         | 1.9 MB 1.0 MB/s eta 0:00:08\r",
      "\u001b[K     |██████▍                         | 1.9 MB 1.0 MB/s eta 0:00:08\r",
      "\u001b[K     |██████▍                         | 1.9 MB 1.0 MB/s eta 0:00:08\r",
      "\u001b[K     |██████▍                         | 1.9 MB 1.0 MB/s eta 0:00:08\r",
      "\u001b[K     |██████▌                         | 1.9 MB 1.0 MB/s eta 0:00:08\r",
      "\u001b[K     |██████▌                         | 1.9 MB 1.0 MB/s eta 0:00:08"
     ]
    },
    {
     "name": "stdout",
     "output_type": "stream",
     "text": [
      "\r",
      "\u001b[K     |██████▌                         | 1.9 MB 1.0 MB/s eta 0:00:08\r",
      "\u001b[K     |██████▋                         | 1.9 MB 1.0 MB/s eta 0:00:08\r",
      "\u001b[K     |██████▋                         | 2.0 MB 1.0 MB/s eta 0:00:08\r",
      "\u001b[K     |██████▋                         | 2.0 MB 1.0 MB/s eta 0:00:08\r",
      "\u001b[K     |██████▊                         | 2.0 MB 1.0 MB/s eta 0:00:08\r",
      "\u001b[K     |██████▊                         | 2.0 MB 1.0 MB/s eta 0:00:08\r",
      "\u001b[K     |██████▊                         | 2.0 MB 1.0 MB/s eta 0:00:08\r",
      "\u001b[K     |██████▉                         | 2.0 MB 1.0 MB/s eta 0:00:08"
     ]
    },
    {
     "name": "stdout",
     "output_type": "stream",
     "text": [
      "\r",
      "\u001b[K     |██████▉                         | 2.0 MB 1.0 MB/s eta 0:00:08\r",
      "\u001b[K     |██████▉                         | 2.0 MB 1.0 MB/s eta 0:00:08\r",
      "\u001b[K     |███████                         | 2.0 MB 1.0 MB/s eta 0:00:08\r",
      "\u001b[K     |███████                         | 2.0 MB 1.0 MB/s eta 0:00:08"
     ]
    },
    {
     "name": "stdout",
     "output_type": "stream",
     "text": [
      "\r",
      "\u001b[K     |███████                         | 2.1 MB 1.0 MB/s eta 0:00:08\r",
      "\u001b[K     |███████                         | 2.1 MB 1.0 MB/s eta 0:00:08\r",
      "\u001b[K     |███████                         | 2.1 MB 1.0 MB/s eta 0:00:08\r",
      "\u001b[K     |███████                         | 2.1 MB 1.0 MB/s eta 0:00:08\r",
      "\u001b[K     |███████                         | 2.1 MB 1.0 MB/s eta 0:00:08\r",
      "\u001b[K     |███████▏                        | 2.1 MB 1.0 MB/s eta 0:00:08"
     ]
    },
    {
     "name": "stdout",
     "output_type": "stream",
     "text": [
      "\r",
      "\u001b[K     |███████▏                        | 2.1 MB 1.0 MB/s eta 0:00:08\r",
      "\u001b[K     |███████▏                        | 2.1 MB 1.0 MB/s eta 0:00:08\r",
      "\u001b[K     |███████▎                        | 2.1 MB 1.0 MB/s eta 0:00:08"
     ]
    },
    {
     "name": "stdout",
     "output_type": "stream",
     "text": [
      "\r",
      "\u001b[K     |███████▎                        | 2.2 MB 1.0 MB/s eta 0:00:08\r",
      "\u001b[K     |███████▎                        | 2.2 MB 1.0 MB/s eta 0:00:07"
     ]
    },
    {
     "name": "stdout",
     "output_type": "stream",
     "text": [
      "\r",
      "\u001b[K     |███████▍                        | 2.2 MB 1.0 MB/s eta 0:00:07\r",
      "\u001b[K     |███████▍                        | 2.2 MB 1.0 MB/s eta 0:00:07\r",
      "\u001b[K     |███████▍                        | 2.2 MB 1.0 MB/s eta 0:00:07\r",
      "\u001b[K     |███████▍                        | 2.2 MB 1.0 MB/s eta 0:00:07\r",
      "\u001b[K     |███████▌                        | 2.2 MB 1.0 MB/s eta 0:00:07\r",
      "\u001b[K     |███████▌                        | 2.2 MB 1.0 MB/s eta 0:00:07\r",
      "\u001b[K     |███████▌                        | 2.2 MB 1.0 MB/s eta 0:00:07\r",
      "\u001b[K     |███████▋                        | 2.2 MB 1.0 MB/s eta 0:00:07\r",
      "\u001b[K     |███████▋                        | 2.3 MB 1.0 MB/s eta 0:00:07"
     ]
    },
    {
     "name": "stdout",
     "output_type": "stream",
     "text": [
      "\r",
      "\u001b[K     |███████▋                        | 2.3 MB 1.4 MB/s eta 0:00:06\r",
      "\u001b[K     |███████▊                        | 2.3 MB 1.4 MB/s eta 0:00:06\r",
      "\u001b[K     |███████▊                        | 2.3 MB 1.4 MB/s eta 0:00:06\r",
      "\u001b[K     |███████▊                        | 2.3 MB 1.4 MB/s eta 0:00:06\r",
      "\u001b[K     |███████▉                        | 2.3 MB 1.4 MB/s eta 0:00:06\r",
      "\u001b[K     |███████▉                        | 2.3 MB 1.4 MB/s eta 0:00:06\r",
      "\u001b[K     |███████▉                        | 2.3 MB 1.4 MB/s eta 0:00:06\r",
      "\u001b[K     |████████                        | 2.3 MB 1.4 MB/s eta 0:00:06"
     ]
    },
    {
     "name": "stdout",
     "output_type": "stream",
     "text": [
      "\r",
      "\u001b[K     |████████                        | 2.3 MB 1.4 MB/s eta 0:00:06\r",
      "\u001b[K     |████████                        | 2.4 MB 1.4 MB/s eta 0:00:06\r",
      "\u001b[K     |████████                        | 2.4 MB 1.4 MB/s eta 0:00:06\r",
      "\u001b[K     |████████                        | 2.4 MB 1.4 MB/s eta 0:00:06\r",
      "\u001b[K     |████████                        | 2.4 MB 1.4 MB/s eta 0:00:06\r",
      "\u001b[K     |████████                        | 2.4 MB 1.4 MB/s eta 0:00:06\r",
      "\u001b[K     |████████▏                       | 2.4 MB 1.4 MB/s eta 0:00:06\r",
      "\u001b[K     |████████▏                       | 2.4 MB 1.4 MB/s eta 0:00:06"
     ]
    },
    {
     "name": "stdout",
     "output_type": "stream",
     "text": [
      "\r",
      "\u001b[K     |████████▏                       | 2.4 MB 1.4 MB/s eta 0:00:06\r",
      "\u001b[K     |████████▎                       | 2.4 MB 1.4 MB/s eta 0:00:06\r",
      "\u001b[K     |████████▎                       | 2.4 MB 1.4 MB/s eta 0:00:06\r",
      "\u001b[K     |████████▎                       | 2.5 MB 1.4 MB/s eta 0:00:06\r",
      "\u001b[K     |████████▍                       | 2.5 MB 1.4 MB/s eta 0:00:06\r",
      "\u001b[K     |████████▍                       | 2.5 MB 1.4 MB/s eta 0:00:06\r",
      "\u001b[K     |████████▍                       | 2.5 MB 1.4 MB/s eta 0:00:06"
     ]
    },
    {
     "name": "stdout",
     "output_type": "stream",
     "text": [
      "\r",
      "\u001b[K     |████████▌                       | 2.5 MB 1.4 MB/s eta 0:00:06\r",
      "\u001b[K     |████████▌                       | 2.5 MB 1.4 MB/s eta 0:00:06\r",
      "\u001b[K     |████████▌                       | 2.5 MB 1.4 MB/s eta 0:00:06\r",
      "\u001b[K     |████████▌                       | 2.5 MB 1.4 MB/s eta 0:00:06\r",
      "\u001b[K     |████████▋                       | 2.5 MB 1.4 MB/s eta 0:00:06\r",
      "\u001b[K     |████████▋                       | 2.5 MB 1.4 MB/s eta 0:00:06\r",
      "\u001b[K     |████████▋                       | 2.6 MB 1.4 MB/s eta 0:00:06\r",
      "\u001b[K     |████████▊                       | 2.6 MB 1.4 MB/s eta 0:00:06\r",
      "\u001b[K     |████████▊                       | 2.6 MB 1.4 MB/s eta 0:00:06"
     ]
    },
    {
     "name": "stdout",
     "output_type": "stream",
     "text": [
      "\r",
      "\u001b[K     |████████▊                       | 2.6 MB 1.4 MB/s eta 0:00:06\r",
      "\u001b[K     |████████▉                       | 2.6 MB 1.4 MB/s eta 0:00:06\r",
      "\u001b[K     |████████▉                       | 2.6 MB 1.4 MB/s eta 0:00:06\r",
      "\u001b[K     |████████▉                       | 2.6 MB 1.4 MB/s eta 0:00:06\r",
      "\u001b[K     |█████████                       | 2.6 MB 1.4 MB/s eta 0:00:06"
     ]
    },
    {
     "name": "stdout",
     "output_type": "stream",
     "text": [
      "\r",
      "\u001b[K     |█████████                       | 2.6 MB 1.4 MB/s eta 0:00:06\r",
      "\u001b[K     |█████████                       | 2.7 MB 1.4 MB/s eta 0:00:06\r",
      "\u001b[K     |█████████                       | 2.7 MB 1.4 MB/s eta 0:00:06\r",
      "\u001b[K     |█████████                       | 2.7 MB 1.4 MB/s eta 0:00:05\r",
      "\u001b[K     |█████████                       | 2.7 MB 1.4 MB/s eta 0:00:05\r",
      "\u001b[K     |█████████                       | 2.7 MB 1.4 MB/s eta 0:00:05\r",
      "\u001b[K     |█████████▏                      | 2.7 MB 1.4 MB/s eta 0:00:05"
     ]
    },
    {
     "name": "stdout",
     "output_type": "stream",
     "text": [
      "\r",
      "\u001b[K     |█████████▏                      | 2.7 MB 1.4 MB/s eta 0:00:05\r",
      "\u001b[K     |█████████▏                      | 2.7 MB 1.4 MB/s eta 0:00:05\r",
      "\u001b[K     |█████████▎                      | 2.7 MB 1.4 MB/s eta 0:00:05\r",
      "\u001b[K     |█████████▎                      | 2.7 MB 1.4 MB/s eta 0:00:05\r",
      "\u001b[K     |█████████▎                      | 2.8 MB 1.4 MB/s eta 0:00:05\r",
      "\u001b[K     |█████████▍                      | 2.8 MB 1.4 MB/s eta 0:00:05\r",
      "\u001b[K     |█████████▍                      | 2.8 MB 1.4 MB/s eta 0:00:05\r",
      "\u001b[K     |█████████▍                      | 2.8 MB 1.4 MB/s eta 0:00:05"
     ]
    },
    {
     "name": "stdout",
     "output_type": "stream",
     "text": [
      "\r",
      "\u001b[K     |█████████▌                      | 2.8 MB 1.4 MB/s eta 0:00:05\r",
      "\u001b[K     |█████████▌                      | 2.8 MB 1.4 MB/s eta 0:00:05\r",
      "\u001b[K     |█████████▌                      | 2.8 MB 1.4 MB/s eta 0:00:05"
     ]
    },
    {
     "name": "stdout",
     "output_type": "stream",
     "text": [
      "\r",
      "\u001b[K     |█████████▋                      | 2.8 MB 1.4 MB/s eta 0:00:05\r",
      "\u001b[K     |█████████▋                      | 2.8 MB 1.4 MB/s eta 0:00:05\r",
      "\u001b[K     |█████████▋                      | 2.8 MB 1.4 MB/s eta 0:00:05"
     ]
    },
    {
     "name": "stdout",
     "output_type": "stream",
     "text": [
      "\r",
      "\u001b[K     |█████████▋                      | 2.9 MB 1.4 MB/s eta 0:00:05\r",
      "\u001b[K     |█████████▊                      | 2.9 MB 1.4 MB/s eta 0:00:05\r",
      "\u001b[K     |█████████▊                      | 2.9 MB 1.4 MB/s eta 0:00:05\r",
      "\u001b[K     |█████████▊                      | 2.9 MB 1.4 MB/s eta 0:00:05\r",
      "\u001b[K     |█████████▉                      | 2.9 MB 1.4 MB/s eta 0:00:05\r",
      "\u001b[K     |█████████▉                      | 2.9 MB 1.4 MB/s eta 0:00:05\r",
      "\u001b[K     |█████████▉                      | 2.9 MB 1.4 MB/s eta 0:00:05\r",
      "\u001b[K     |██████████                      | 2.9 MB 1.4 MB/s eta 0:00:05"
     ]
    },
    {
     "name": "stdout",
     "output_type": "stream",
     "text": [
      "\r",
      "\u001b[K     |██████████                      | 2.9 MB 1.4 MB/s eta 0:00:05\r",
      "\u001b[K     |██████████                      | 2.9 MB 1.4 MB/s eta 0:00:05\r",
      "\u001b[K     |██████████                      | 3.0 MB 1.4 MB/s eta 0:00:05\r",
      "\u001b[K     |██████████                      | 3.0 MB 1.4 MB/s eta 0:00:05\r",
      "\u001b[K     |██████████                      | 3.0 MB 1.4 MB/s eta 0:00:05\r",
      "\u001b[K     |██████████                      | 3.0 MB 1.4 MB/s eta 0:00:05\r",
      "\u001b[K     |██████████▏                     | 3.0 MB 1.4 MB/s eta 0:00:05\r",
      "\u001b[K     |██████████▏                     | 3.0 MB 1.4 MB/s eta 0:00:05"
     ]
    },
    {
     "name": "stdout",
     "output_type": "stream",
     "text": [
      "\r",
      "\u001b[K     |██████████▏                     | 3.0 MB 1.4 MB/s eta 0:00:05\r",
      "\u001b[K     |██████████▎                     | 3.0 MB 1.4 MB/s eta 0:00:05\r",
      "\u001b[K     |██████████▎                     | 3.0 MB 1.4 MB/s eta 0:00:05\r",
      "\u001b[K     |██████████▎                     | 3.1 MB 1.4 MB/s eta 0:00:05\r",
      "\u001b[K     |██████████▍                     | 3.1 MB 1.4 MB/s eta 0:00:05"
     ]
    },
    {
     "name": "stdout",
     "output_type": "stream",
     "text": [
      "\r",
      "\u001b[K     |██████████▍                     | 3.1 MB 1.4 MB/s eta 0:00:05\r",
      "\u001b[K     |██████████▍                     | 3.1 MB 1.4 MB/s eta 0:00:05\r",
      "\u001b[K     |██████████▌                     | 3.1 MB 1.4 MB/s eta 0:00:05\r",
      "\u001b[K     |██████████▌                     | 3.1 MB 1.4 MB/s eta 0:00:05\r",
      "\u001b[K     |██████████▌                     | 3.1 MB 1.4 MB/s eta 0:00:05\r",
      "\u001b[K     |██████████▋                     | 3.1 MB 1.4 MB/s eta 0:00:05\r",
      "\u001b[K     |██████████▋                     | 3.1 MB 1.4 MB/s eta 0:00:05\r",
      "\u001b[K     |██████████▋                     | 3.1 MB 1.4 MB/s eta 0:00:05\r",
      "\u001b[K     |██████████▋                     | 3.2 MB 1.4 MB/s eta 0:00:05"
     ]
    },
    {
     "name": "stdout",
     "output_type": "stream",
     "text": [
      "\r",
      "\u001b[K     |██████████▊                     | 3.2 MB 1.4 MB/s eta 0:00:05\r",
      "\u001b[K     |██████████▊                     | 3.2 MB 1.4 MB/s eta 0:00:05\r",
      "\u001b[K     |██████████▊                     | 3.2 MB 1.4 MB/s eta 0:00:05\r",
      "\u001b[K     |██████████▉                     | 3.2 MB 1.4 MB/s eta 0:00:05\r",
      "\u001b[K     |██████████▉                     | 3.2 MB 1.4 MB/s eta 0:00:05\r",
      "\u001b[K     |██████████▉                     | 3.2 MB 1.4 MB/s eta 0:00:05\r",
      "\u001b[K     |███████████                     | 3.2 MB 1.4 MB/s eta 0:00:05"
     ]
    },
    {
     "name": "stdout",
     "output_type": "stream",
     "text": [
      "\r",
      "\u001b[K     |███████████                     | 3.2 MB 1.4 MB/s eta 0:00:05\r",
      "\u001b[K     |███████████                     | 3.2 MB 1.4 MB/s eta 0:00:05\r",
      "\u001b[K     |███████████                     | 3.3 MB 1.4 MB/s eta 0:00:05\r",
      "\u001b[K     |███████████                     | 3.3 MB 1.6 MB/s eta 0:00:04\r",
      "\u001b[K     |███████████                     | 3.3 MB 1.6 MB/s eta 0:00:04\r",
      "\u001b[K     |███████████▏                    | 3.3 MB 1.6 MB/s eta 0:00:04\r",
      "\u001b[K     |███████████▏                    | 3.3 MB 1.6 MB/s eta 0:00:04\r",
      "\u001b[K     |███████████▏                    | 3.3 MB 1.6 MB/s eta 0:00:04\r",
      "\u001b[K     |███████████▏                    | 3.3 MB 1.6 MB/s eta 0:00:04"
     ]
    },
    {
     "name": "stdout",
     "output_type": "stream",
     "text": [
      "\r",
      "\u001b[K     |███████████▎                    | 3.3 MB 1.6 MB/s eta 0:00:04\r",
      "\u001b[K     |███████████▎                    | 3.3 MB 1.6 MB/s eta 0:00:04\r",
      "\u001b[K     |███████████▎                    | 3.3 MB 1.6 MB/s eta 0:00:04\r",
      "\u001b[K     |███████████▍                    | 3.4 MB 1.6 MB/s eta 0:00:04\r",
      "\u001b[K     |███████████▍                    | 3.4 MB 1.6 MB/s eta 0:00:04\r",
      "\u001b[K     |███████████▍                    | 3.4 MB 1.6 MB/s eta 0:00:04\r",
      "\u001b[K     |███████████▌                    | 3.4 MB 1.6 MB/s eta 0:00:04\r",
      "\u001b[K     |███████████▌                    | 3.4 MB 1.6 MB/s eta 0:00:04"
     ]
    },
    {
     "name": "stdout",
     "output_type": "stream",
     "text": [
      "\r",
      "\u001b[K     |███████████▌                    | 3.4 MB 1.6 MB/s eta 0:00:04\r",
      "\u001b[K     |███████████▋                    | 3.4 MB 1.6 MB/s eta 0:00:04\r",
      "\u001b[K     |███████████▋                    | 3.4 MB 1.6 MB/s eta 0:00:04\r",
      "\u001b[K     |███████████▋                    | 3.4 MB 1.6 MB/s eta 0:00:04\r",
      "\u001b[K     |███████████▊                    | 3.5 MB 1.6 MB/s eta 0:00:04\r",
      "\u001b[K     |███████████▊                    | 3.5 MB 1.6 MB/s eta 0:00:04\r",
      "\u001b[K     |███████████▊                    | 3.5 MB 1.6 MB/s eta 0:00:04"
     ]
    },
    {
     "name": "stdout",
     "output_type": "stream",
     "text": [
      "\r",
      "\u001b[K     |███████████▊                    | 3.5 MB 1.6 MB/s eta 0:00:04\r",
      "\u001b[K     |███████████▉                    | 3.5 MB 1.6 MB/s eta 0:00:04\r",
      "\u001b[K     |███████████▉                    | 3.5 MB 1.6 MB/s eta 0:00:04\r",
      "\u001b[K     |███████████▉                    | 3.5 MB 1.6 MB/s eta 0:00:04\r",
      "\u001b[K     |████████████                    | 3.5 MB 1.6 MB/s eta 0:00:04\r",
      "\u001b[K     |████████████                    | 3.5 MB 1.6 MB/s eta 0:00:04"
     ]
    },
    {
     "name": "stdout",
     "output_type": "stream",
     "text": [
      "\r",
      "\u001b[K     |████████████                    | 3.5 MB 1.6 MB/s eta 0:00:04\r",
      "\u001b[K     |████████████                    | 3.6 MB 1.6 MB/s eta 0:00:04\r",
      "\u001b[K     |████████████                    | 3.6 MB 1.6 MB/s eta 0:00:04\r",
      "\u001b[K     |████████████                    | 3.6 MB 1.6 MB/s eta 0:00:04\r",
      "\u001b[K     |████████████▏                   | 3.6 MB 1.6 MB/s eta 0:00:04\r",
      "\u001b[K     |████████████▏                   | 3.6 MB 1.6 MB/s eta 0:00:04\r",
      "\u001b[K     |████████████▏                   | 3.6 MB 1.6 MB/s eta 0:00:04\r",
      "\u001b[K     |████████████▏                   | 3.6 MB 1.6 MB/s eta 0:00:04\r",
      "\u001b[K     |████████████▎                   | 3.6 MB 1.6 MB/s eta 0:00:04"
     ]
    },
    {
     "name": "stdout",
     "output_type": "stream",
     "text": [
      "\r",
      "\u001b[K     |████████████▎                   | 3.6 MB 1.6 MB/s eta 0:00:04\r",
      "\u001b[K     |████████████▎                   | 3.6 MB 1.6 MB/s eta 0:00:04\r",
      "\u001b[K     |████████████▍                   | 3.7 MB 1.6 MB/s eta 0:00:04\r",
      "\u001b[K     |████████████▍                   | 3.7 MB 1.6 MB/s eta 0:00:04\r",
      "\u001b[K     |████████████▍                   | 3.7 MB 1.6 MB/s eta 0:00:04\r",
      "\u001b[K     |████████████▌                   | 3.7 MB 1.6 MB/s eta 0:00:04\r",
      "\u001b[K     |████████████▌                   | 3.7 MB 1.6 MB/s eta 0:00:04\r",
      "\u001b[K     |████████████▌                   | 3.7 MB 1.6 MB/s eta 0:00:04\r",
      "\u001b[K     |████████████▋                   | 3.7 MB 1.6 MB/s eta 0:00:04\r",
      "\u001b[K     |████████████▋                   | 3.7 MB 1.6 MB/s eta 0:00:04"
     ]
    },
    {
     "name": "stdout",
     "output_type": "stream",
     "text": [
      "\r",
      "\u001b[K     |████████████▋                   | 3.7 MB 1.6 MB/s eta 0:00:04\r",
      "\u001b[K     |████████████▊                   | 3.7 MB 1.6 MB/s eta 0:00:04"
     ]
    },
    {
     "name": "stdout",
     "output_type": "stream",
     "text": [
      "\r",
      "\u001b[K     |████████████▊                   | 3.8 MB 1.6 MB/s eta 0:00:04\r",
      "\u001b[K     |████████████▊                   | 3.8 MB 1.6 MB/s eta 0:00:04\r",
      "\u001b[K     |████████████▊                   | 3.8 MB 1.6 MB/s eta 0:00:04"
     ]
    },
    {
     "name": "stdout",
     "output_type": "stream",
     "text": [
      "\r",
      "\u001b[K     |████████████▉                   | 3.8 MB 1.6 MB/s eta 0:00:04\r",
      "\u001b[K     |████████████▉                   | 3.8 MB 1.6 MB/s eta 0:00:04\r",
      "\u001b[K     |████████████▉                   | 3.8 MB 1.6 MB/s eta 0:00:04\r",
      "\u001b[K     |█████████████                   | 3.8 MB 1.6 MB/s eta 0:00:04\r",
      "\u001b[K     |█████████████                   | 3.8 MB 1.6 MB/s eta 0:00:04\r",
      "\u001b[K     |█████████████                   | 3.8 MB 1.6 MB/s eta 0:00:04\r",
      "\u001b[K     |█████████████                   | 3.9 MB 1.6 MB/s eta 0:00:04"
     ]
    },
    {
     "name": "stdout",
     "output_type": "stream",
     "text": [
      "\r",
      "\u001b[K     |█████████████                   | 3.9 MB 1.6 MB/s eta 0:00:04\r",
      "\u001b[K     |█████████████                   | 3.9 MB 1.6 MB/s eta 0:00:04\r",
      "\u001b[K     |█████████████▏                  | 3.9 MB 1.6 MB/s eta 0:00:04\r",
      "\u001b[K     |█████████████▏                  | 3.9 MB 1.6 MB/s eta 0:00:04\r",
      "\u001b[K     |█████████████▏                  | 3.9 MB 1.6 MB/s eta 0:00:04\r",
      "\u001b[K     |█████████████▎                  | 3.9 MB 1.6 MB/s eta 0:00:04\r",
      "\u001b[K     |█████████████▎                  | 3.9 MB 1.6 MB/s eta 0:00:04\r",
      "\u001b[K     |█████████████▎                  | 3.9 MB 1.6 MB/s eta 0:00:04\r",
      "\u001b[K     |█████████████▎                  | 3.9 MB 1.6 MB/s eta 0:00:04\r",
      "\u001b[K     |█████████████▍                  | 4.0 MB 1.6 MB/s eta 0:00:04"
     ]
    },
    {
     "name": "stdout",
     "output_type": "stream",
     "text": [
      "\r",
      "\u001b[K     |█████████████▍                  | 4.0 MB 1.6 MB/s eta 0:00:04\r",
      "\u001b[K     |█████████████▍                  | 4.0 MB 1.6 MB/s eta 0:00:04\r",
      "\u001b[K     |█████████████▌                  | 4.0 MB 1.6 MB/s eta 0:00:04\r",
      "\u001b[K     |█████████████▌                  | 4.0 MB 1.6 MB/s eta 0:00:04"
     ]
    },
    {
     "name": "stdout",
     "output_type": "stream",
     "text": [
      "\r",
      "\u001b[K     |█████████████▌                  | 4.0 MB 1.6 MB/s eta 0:00:04\r",
      "\u001b[K     |█████████████▋                  | 4.0 MB 1.6 MB/s eta 0:00:04"
     ]
    },
    {
     "name": "stdout",
     "output_type": "stream",
     "text": [
      "\r",
      "\u001b[K     |█████████████▋                  | 4.0 MB 1.6 MB/s eta 0:00:04\r",
      "\u001b[K     |█████████████▋                  | 4.0 MB 1.6 MB/s eta 0:00:04\r",
      "\u001b[K     |█████████████▊                  | 4.0 MB 1.6 MB/s eta 0:00:04\r",
      "\u001b[K     |█████████████▊                  | 4.1 MB 1.6 MB/s eta 0:00:04\r",
      "\u001b[K     |█████████████▊                  | 4.1 MB 1.6 MB/s eta 0:00:04\r",
      "\u001b[K     |█████████████▉                  | 4.1 MB 1.6 MB/s eta 0:00:04\r",
      "\u001b[K     |█████████████▉                  | 4.1 MB 1.6 MB/s eta 0:00:04\r",
      "\u001b[K     |█████████████▉                  | 4.1 MB 1.6 MB/s eta 0:00:04"
     ]
    },
    {
     "name": "stdout",
     "output_type": "stream",
     "text": [
      "\r",
      "\u001b[K     |█████████████▉                  | 4.1 MB 1.6 MB/s eta 0:00:04\r",
      "\u001b[K     |██████████████                  | 4.1 MB 1.6 MB/s eta 0:00:04\r",
      "\u001b[K     |██████████████                  | 4.1 MB 1.6 MB/s eta 0:00:04\r",
      "\u001b[K     |██████████████                  | 4.1 MB 1.6 MB/s eta 0:00:04\r",
      "\u001b[K     |██████████████                  | 4.1 MB 1.6 MB/s eta 0:00:04\r",
      "\u001b[K     |██████████████                  | 4.2 MB 1.6 MB/s eta 0:00:04"
     ]
    },
    {
     "name": "stdout",
     "output_type": "stream",
     "text": [
      "\r",
      "\u001b[K     |██████████████                  | 4.2 MB 1.6 MB/s eta 0:00:04\r",
      "\u001b[K     |██████████████▏                 | 4.2 MB 1.6 MB/s eta 0:00:04\r",
      "\u001b[K     |██████████████▏                 | 4.2 MB 1.6 MB/s eta 0:00:04\r",
      "\u001b[K     |██████████████▏                 | 4.2 MB 1.6 MB/s eta 0:00:04\r",
      "\u001b[K     |██████████████▎                 | 4.2 MB 1.6 MB/s eta 0:00:04\r",
      "\u001b[K     |██████████████▎                 | 4.2 MB 1.6 MB/s eta 0:00:04\r",
      "\u001b[K     |██████████████▎                 | 4.2 MB 1.6 MB/s eta 0:00:04"
     ]
    },
    {
     "name": "stdout",
     "output_type": "stream",
     "text": [
      "\r",
      "\u001b[K     |██████████████▍                 | 4.2 MB 1.6 MB/s eta 0:00:04\r",
      "\u001b[K     |██████████████▍                 | 4.2 MB 1.6 MB/s eta 0:00:04\r",
      "\u001b[K     |██████████████▍                 | 4.3 MB 1.6 MB/s eta 0:00:04\r",
      "\u001b[K     |██████████████▍                 | 4.3 MB 1.6 MB/s eta 0:00:04\r",
      "\u001b[K     |██████████████▌                 | 4.3 MB 1.3 MB/s eta 0:00:04\r",
      "\u001b[K     |██████████████▌                 | 4.3 MB 1.3 MB/s eta 0:00:04\r",
      "\u001b[K     |██████████████▌                 | 4.3 MB 1.3 MB/s eta 0:00:04"
     ]
    },
    {
     "name": "stdout",
     "output_type": "stream",
     "text": [
      "\r",
      "\u001b[K     |██████████████▋                 | 4.3 MB 1.3 MB/s eta 0:00:04\r",
      "\u001b[K     |██████████████▋                 | 4.3 MB 1.3 MB/s eta 0:00:04\r",
      "\u001b[K     |██████████████▋                 | 4.3 MB 1.3 MB/s eta 0:00:04\r",
      "\u001b[K     |██████████████▊                 | 4.3 MB 1.3 MB/s eta 0:00:04\r",
      "\u001b[K     |██████████████▊                 | 4.4 MB 1.3 MB/s eta 0:00:04\r",
      "\u001b[K     |██████████████▊                 | 4.4 MB 1.3 MB/s eta 0:00:04\r",
      "\u001b[K     |██████████████▉                 | 4.4 MB 1.3 MB/s eta 0:00:04\r",
      "\u001b[K     |██████████████▉                 | 4.4 MB 1.3 MB/s eta 0:00:04"
     ]
    },
    {
     "name": "stdout",
     "output_type": "stream",
     "text": [
      "\r",
      "\u001b[K     |██████████████▉                 | 4.4 MB 1.3 MB/s eta 0:00:04\r",
      "\u001b[K     |██████████████▉                 | 4.4 MB 1.3 MB/s eta 0:00:04\r",
      "\u001b[K     |███████████████                 | 4.4 MB 1.3 MB/s eta 0:00:04\r",
      "\u001b[K     |███████████████                 | 4.4 MB 1.3 MB/s eta 0:00:04\r",
      "\u001b[K     |███████████████                 | 4.4 MB 1.3 MB/s eta 0:00:04\r",
      "\u001b[K     |███████████████                 | 4.4 MB 1.3 MB/s eta 0:00:04\r",
      "\u001b[K     |███████████████                 | 4.5 MB 1.3 MB/s eta 0:00:04"
     ]
    },
    {
     "name": "stdout",
     "output_type": "stream",
     "text": [
      "\r",
      "\u001b[K     |███████████████                 | 4.5 MB 1.3 MB/s eta 0:00:04\r",
      "\u001b[K     |███████████████▏                | 4.5 MB 1.3 MB/s eta 0:00:04\r",
      "\u001b[K     |███████████████▏                | 4.5 MB 1.3 MB/s eta 0:00:04\r",
      "\u001b[K     |███████████████▏                | 4.5 MB 1.3 MB/s eta 0:00:04\r",
      "\u001b[K     |███████████████▎                | 4.5 MB 1.3 MB/s eta 0:00:04\r",
      "\u001b[K     |███████████████▎                | 4.5 MB 1.3 MB/s eta 0:00:04\r",
      "\u001b[K     |███████████████▎                | 4.5 MB 1.3 MB/s eta 0:00:04\r",
      "\u001b[K     |███████████████▍                | 4.5 MB 1.3 MB/s eta 0:00:04"
     ]
    },
    {
     "name": "stdout",
     "output_type": "stream",
     "text": [
      "\r",
      "\u001b[K     |███████████████▍                | 4.5 MB 1.3 MB/s eta 0:00:04\r",
      "\u001b[K     |███████████████▍                | 4.6 MB 1.3 MB/s eta 0:00:04\r",
      "\u001b[K     |███████████████▍                | 4.6 MB 1.3 MB/s eta 0:00:04\r",
      "\u001b[K     |███████████████▌                | 4.6 MB 1.3 MB/s eta 0:00:04\r",
      "\u001b[K     |███████████████▌                | 4.6 MB 1.3 MB/s eta 0:00:04\r",
      "\u001b[K     |███████████████▌                | 4.6 MB 1.3 MB/s eta 0:00:04\r",
      "\u001b[K     |███████████████▋                | 4.6 MB 1.3 MB/s eta 0:00:04\r",
      "\u001b[K     |███████████████▋                | 4.6 MB 1.3 MB/s eta 0:00:04"
     ]
    },
    {
     "name": "stdout",
     "output_type": "stream",
     "text": [
      "\r",
      "\u001b[K     |███████████████▋                | 4.6 MB 1.3 MB/s eta 0:00:04\r",
      "\u001b[K     |███████████████▊                | 4.6 MB 1.3 MB/s eta 0:00:04\r",
      "\u001b[K     |███████████████▊                | 4.6 MB 1.3 MB/s eta 0:00:04\r",
      "\u001b[K     |███████████████▊                | 4.7 MB 1.3 MB/s eta 0:00:04\r",
      "\u001b[K     |███████████████▉                | 4.7 MB 1.3 MB/s eta 0:00:04\r",
      "\u001b[K     |███████████████▉                | 4.7 MB 1.3 MB/s eta 0:00:04\r",
      "\u001b[K     |███████████████▉                | 4.7 MB 1.3 MB/s eta 0:00:04\r",
      "\u001b[K     |████████████████                | 4.7 MB 1.3 MB/s eta 0:00:04"
     ]
    },
    {
     "name": "stdout",
     "output_type": "stream",
     "text": [
      "\r",
      "\u001b[K     |████████████████                | 4.7 MB 1.3 MB/s eta 0:00:04\r",
      "\u001b[K     |████████████████                | 4.7 MB 1.3 MB/s eta 0:00:04\r",
      "\u001b[K     |████████████████                | 4.7 MB 1.3 MB/s eta 0:00:04\r",
      "\u001b[K     |████████████████                | 4.7 MB 1.3 MB/s eta 0:00:04\r",
      "\u001b[K     |████████████████                | 4.8 MB 1.3 MB/s eta 0:00:04\r",
      "\u001b[K     |████████████████                | 4.8 MB 1.3 MB/s eta 0:00:04"
     ]
    },
    {
     "name": "stdout",
     "output_type": "stream",
     "text": [
      "\r",
      "\u001b[K     |████████████████▏               | 4.8 MB 1.3 MB/s eta 0:00:04\r",
      "\u001b[K     |████████████████▏               | 4.8 MB 1.3 MB/s eta 0:00:04\r",
      "\u001b[K     |████████████████▏               | 4.8 MB 1.3 MB/s eta 0:00:04\r",
      "\u001b[K     |████████████████▎               | 4.8 MB 1.3 MB/s eta 0:00:04\r",
      "\u001b[K     |████████████████▎               | 4.8 MB 1.3 MB/s eta 0:00:04\r",
      "\u001b[K     |████████████████▎               | 4.8 MB 1.3 MB/s eta 0:00:04\r",
      "\u001b[K     |████████████████▍               | 4.8 MB 1.3 MB/s eta 0:00:04\r",
      "\u001b[K     |████████████████▍               | 4.8 MB 1.3 MB/s eta 0:00:04\r",
      "\u001b[K     |████████████████▍               | 4.9 MB 1.3 MB/s eta 0:00:04"
     ]
    },
    {
     "name": "stdout",
     "output_type": "stream",
     "text": [
      "\r",
      "\u001b[K     |████████████████▌               | 4.9 MB 1.3 MB/s eta 0:00:04\r",
      "\u001b[K     |████████████████▌               | 4.9 MB 1.3 MB/s eta 0:00:04\r",
      "\u001b[K     |████████████████▌               | 4.9 MB 1.3 MB/s eta 0:00:04\r",
      "\u001b[K     |████████████████▌               | 4.9 MB 1.3 MB/s eta 0:00:04"
     ]
    },
    {
     "name": "stdout",
     "output_type": "stream",
     "text": [
      "\r",
      "\u001b[K     |████████████████▋               | 4.9 MB 1.3 MB/s eta 0:00:04\r",
      "\u001b[K     |████████████████▋               | 4.9 MB 1.3 MB/s eta 0:00:04\r",
      "\u001b[K     |████████████████▋               | 4.9 MB 1.3 MB/s eta 0:00:04\r",
      "\u001b[K     |████████████████▊               | 4.9 MB 1.3 MB/s eta 0:00:04\r",
      "\u001b[K     |████████████████▊               | 4.9 MB 1.3 MB/s eta 0:00:04\r",
      "\u001b[K     |████████████████▊               | 5.0 MB 1.3 MB/s eta 0:00:04\r",
      "\u001b[K     |████████████████▉               | 5.0 MB 1.3 MB/s eta 0:00:04\r",
      "\u001b[K     |████████████████▉               | 5.0 MB 1.3 MB/s eta 0:00:04"
     ]
    },
    {
     "name": "stdout",
     "output_type": "stream",
     "text": [
      "\r",
      "\u001b[K     |████████████████▉               | 5.0 MB 1.3 MB/s eta 0:00:04\r",
      "\u001b[K     |█████████████████               | 5.0 MB 1.3 MB/s eta 0:00:04\r",
      "\u001b[K     |█████████████████               | 5.0 MB 1.3 MB/s eta 0:00:04\r",
      "\u001b[K     |█████████████████               | 5.0 MB 1.3 MB/s eta 0:00:04\r",
      "\u001b[K     |█████████████████               | 5.0 MB 1.3 MB/s eta 0:00:04\r",
      "\u001b[K     |█████████████████               | 5.0 MB 1.3 MB/s eta 0:00:04"
     ]
    },
    {
     "name": "stdout",
     "output_type": "stream",
     "text": [
      "\r",
      "\u001b[K     |█████████████████               | 5.0 MB 1.3 MB/s eta 0:00:04\r",
      "\u001b[K     |█████████████████               | 5.1 MB 1.3 MB/s eta 0:00:04\r",
      "\u001b[K     |█████████████████▏              | 5.1 MB 1.3 MB/s eta 0:00:04\r",
      "\u001b[K     |█████████████████▏              | 5.1 MB 1.3 MB/s eta 0:00:04\r",
      "\u001b[K     |█████████████████▏              | 5.1 MB 1.3 MB/s eta 0:00:04\r",
      "\u001b[K     |█████████████████▎              | 5.1 MB 1.3 MB/s eta 0:00:04\r",
      "\u001b[K     |█████████████████▎              | 5.1 MB 1.3 MB/s eta 0:00:04\r",
      "\u001b[K     |█████████████████▎              | 5.1 MB 1.3 MB/s eta 0:00:04"
     ]
    },
    {
     "name": "stdout",
     "output_type": "stream",
     "text": [
      "\r",
      "\u001b[K     |█████████████████▍              | 5.1 MB 1.3 MB/s eta 0:00:04\r",
      "\u001b[K     |█████████████████▍              | 5.1 MB 1.3 MB/s eta 0:00:04\r",
      "\u001b[K     |█████████████████▍              | 5.2 MB 1.3 MB/s eta 0:00:04\r",
      "\u001b[K     |█████████████████▌              | 5.2 MB 1.3 MB/s eta 0:00:04\r",
      "\u001b[K     |█████████████████▌              | 5.2 MB 1.3 MB/s eta 0:00:04\r",
      "\u001b[K     |█████████████████▌              | 5.2 MB 1.3 MB/s eta 0:00:04\r",
      "\u001b[K     |█████████████████▌              | 5.2 MB 1.3 MB/s eta 0:00:04"
     ]
    },
    {
     "name": "stdout",
     "output_type": "stream",
     "text": [
      "\r",
      "\u001b[K     |█████████████████▋              | 5.2 MB 1.3 MB/s eta 0:00:04"
     ]
    },
    {
     "name": "stdout",
     "output_type": "stream",
     "text": [
      "\r",
      "\u001b[K     |█████████████████▋              | 5.2 MB 1.3 MB/s eta 0:00:04\r",
      "\u001b[K     |█████████████████▋              | 5.2 MB 1.3 MB/s eta 0:00:04"
     ]
    },
    {
     "name": "stdout",
     "output_type": "stream",
     "text": [
      "\r",
      "\u001b[K     |█████████████████▊              | 5.2 MB 1.3 MB/s eta 0:00:04\r",
      "\u001b[K     |█████████████████▊              | 5.2 MB 1.3 MB/s eta 0:00:04\r",
      "\u001b[K     |█████████████████▊              | 5.3 MB 1.3 MB/s eta 0:00:04\r",
      "\u001b[K     |█████████████████▉              | 5.3 MB 1.3 MB/s eta 0:00:04\r",
      "\u001b[K     |█████████████████▉              | 5.3 MB 1.3 MB/s eta 0:00:04\r",
      "\u001b[K     |█████████████████▉              | 5.3 MB 1.3 MB/s eta 0:00:04\r",
      "\u001b[K     |██████████████████              | 5.3 MB 1.3 MB/s eta 0:00:04\r",
      "\u001b[K     |██████████████████              | 5.3 MB 1.3 MB/s eta 0:00:04"
     ]
    },
    {
     "name": "stdout",
     "output_type": "stream",
     "text": [
      "\r",
      "\u001b[K     |██████████████████              | 5.3 MB 1.3 MB/s eta 0:00:04\r",
      "\u001b[K     |██████████████████              | 5.3 MB 1.3 MB/s eta 0:00:04\r",
      "\u001b[K     |██████████████████              | 5.3 MB 1.3 MB/s eta 0:00:04\r",
      "\u001b[K     |██████████████████              | 5.3 MB 1.3 MB/s eta 0:00:04\r",
      "\u001b[K     |██████████████████              | 5.4 MB 1.3 MB/s eta 0:00:04\r",
      "\u001b[K     |██████████████████▏             | 5.4 MB 1.3 MB/s eta 0:00:04\r",
      "\u001b[K     |██████████████████▏             | 5.4 MB 1.3 MB/s eta 0:00:04\r",
      "\u001b[K     |██████████████████▏             | 5.4 MB 1.3 MB/s eta 0:00:04"
     ]
    },
    {
     "name": "stdout",
     "output_type": "stream",
     "text": [
      "\r",
      "\u001b[K     |██████████████████▎             | 5.4 MB 1.3 MB/s eta 0:00:04\r",
      "\u001b[K     |██████████████████▎             | 5.4 MB 1.3 MB/s eta 0:00:04\r",
      "\u001b[K     |██████████████████▎             | 5.4 MB 1.3 MB/s eta 0:00:04\r",
      "\u001b[K     |██████████████████▍             | 5.4 MB 1.3 MB/s eta 0:00:04\r",
      "\u001b[K     |██████████████████▍             | 5.4 MB 1.3 MB/s eta 0:00:04\r",
      "\u001b[K     |██████████████████▍             | 5.4 MB 1.3 MB/s eta 0:00:04\r",
      "\u001b[K     |██████████████████▌             | 5.5 MB 1.3 MB/s eta 0:00:04\r",
      "\u001b[K     |██████████████████▌             | 5.5 MB 1.3 MB/s eta 0:00:04"
     ]
    },
    {
     "name": "stdout",
     "output_type": "stream",
     "text": [
      "\r",
      "\u001b[K     |██████████████████▌             | 5.5 MB 1.3 MB/s eta 0:00:04\r",
      "\u001b[K     |██████████████████▋             | 5.5 MB 1.3 MB/s eta 0:00:04\r",
      "\u001b[K     |██████████████████▋             | 5.5 MB 1.3 MB/s eta 0:00:04\r",
      "\u001b[K     |██████████████████▋             | 5.5 MB 1.3 MB/s eta 0:00:04\r",
      "\u001b[K     |██████████████████▋             | 5.5 MB 1.3 MB/s eta 0:00:04"
     ]
    },
    {
     "name": "stdout",
     "output_type": "stream",
     "text": [
      "\r",
      "\u001b[K     |██████████████████▊             | 5.5 MB 1.3 MB/s eta 0:00:04\r",
      "\u001b[K     |██████████████████▊             | 5.5 MB 1.3 MB/s eta 0:00:04\r",
      "\u001b[K     |██████████████████▊             | 5.6 MB 1.3 MB/s eta 0:00:04\r",
      "\u001b[K     |██████████████████▉             | 5.6 MB 1.3 MB/s eta 0:00:03\r",
      "\u001b[K     |██████████████████▉             | 5.6 MB 1.3 MB/s eta 0:00:03\r",
      "\u001b[K     |██████████████████▉             | 5.6 MB 1.3 MB/s eta 0:00:03\r",
      "\u001b[K     |███████████████████             | 5.6 MB 1.3 MB/s eta 0:00:03\r",
      "\u001b[K     |███████████████████             | 5.6 MB 1.3 MB/s eta 0:00:03"
     ]
    },
    {
     "name": "stdout",
     "output_type": "stream",
     "text": [
      "\r",
      "\u001b[K     |███████████████████             | 5.6 MB 1.3 MB/s eta 0:00:03\r",
      "\u001b[K     |███████████████████             | 5.6 MB 1.3 MB/s eta 0:00:03\r",
      "\u001b[K     |███████████████████             | 5.6 MB 1.3 MB/s eta 0:00:03"
     ]
    },
    {
     "name": "stdout",
     "output_type": "stream",
     "text": [
      "\r",
      "\u001b[K     |███████████████████             | 5.6 MB 1.3 MB/s eta 0:00:03\r",
      "\u001b[K     |███████████████████▏            | 5.7 MB 1.3 MB/s eta 0:00:03\r",
      "\u001b[K     |███████████████████▏            | 5.7 MB 1.3 MB/s eta 0:00:03\r",
      "\u001b[K     |███████████████████▏            | 5.7 MB 1.3 MB/s eta 0:00:03\r",
      "\u001b[K     |███████████████████▏            | 5.7 MB 1.3 MB/s eta 0:00:03\r",
      "\u001b[K     |███████████████████▎            | 5.7 MB 1.3 MB/s eta 0:00:03"
     ]
    },
    {
     "name": "stdout",
     "output_type": "stream",
     "text": [
      "\r",
      "\u001b[K     |███████████████████▎            | 5.7 MB 1.3 MB/s eta 0:00:03\r",
      "\u001b[K     |███████████████████▎            | 5.7 MB 1.3 MB/s eta 0:00:03\r",
      "\u001b[K     |███████████████████▍            | 5.7 MB 1.3 MB/s eta 0:00:03\r",
      "\u001b[K     |███████████████████▍            | 5.7 MB 1.3 MB/s eta 0:00:03\r",
      "\u001b[K     |███████████████████▍            | 5.7 MB 1.3 MB/s eta 0:00:03"
     ]
    },
    {
     "name": "stdout",
     "output_type": "stream",
     "text": [
      "\r",
      "\u001b[K     |███████████████████▌            | 5.8 MB 1.3 MB/s eta 0:00:03\r",
      "\u001b[K     |███████████████████▌            | 5.8 MB 1.3 MB/s eta 0:00:03\r",
      "\u001b[K     |███████████████████▌            | 5.8 MB 1.3 MB/s eta 0:00:03\r",
      "\u001b[K     |███████████████████▋            | 5.8 MB 1.3 MB/s eta 0:00:03\r",
      "\u001b[K     |███████████████████▋            | 5.8 MB 1.3 MB/s eta 0:00:03"
     ]
    },
    {
     "name": "stdout",
     "output_type": "stream",
     "text": [
      "\r",
      "\u001b[K     |███████████████████▋            | 5.8 MB 1.3 MB/s eta 0:00:03\r",
      "\u001b[K     |███████████████████▋            | 5.8 MB 1.3 MB/s eta 0:00:03\r",
      "\u001b[K     |███████████████████▊            | 5.8 MB 1.3 MB/s eta 0:00:03\r",
      "\u001b[K     |███████████████████▊            | 5.8 MB 1.3 MB/s eta 0:00:03\r",
      "\u001b[K     |███████████████████▊            | 5.8 MB 1.3 MB/s eta 0:00:03\r",
      "\u001b[K     |███████████████████▉            | 5.9 MB 1.3 MB/s eta 0:00:03\r",
      "\u001b[K     |███████████████████▉            | 5.9 MB 1.3 MB/s eta 0:00:03\r",
      "\u001b[K     |███████████████████▉            | 5.9 MB 1.3 MB/s eta 0:00:03"
     ]
    },
    {
     "name": "stdout",
     "output_type": "stream",
     "text": [
      "\r",
      "\u001b[K     |████████████████████            | 5.9 MB 1.3 MB/s eta 0:00:03\r",
      "\u001b[K     |████████████████████            | 5.9 MB 1.3 MB/s eta 0:00:03\r",
      "\u001b[K     |████████████████████            | 5.9 MB 1.3 MB/s eta 0:00:03\r",
      "\u001b[K     |████████████████████            | 5.9 MB 1.3 MB/s eta 0:00:03\r",
      "\u001b[K     |████████████████████            | 5.9 MB 1.3 MB/s eta 0:00:03\r",
      "\u001b[K"
     ]
    },
    {
     "name": "stdout",
     "output_type": "stream",
     "text": [
      "     |████████████████████            | 5.9 MB 1.3 MB/s eta 0:00:03\r",
      "\u001b[K     |████████████████████▏           | 5.9 MB 1.3 MB/s eta 0:00:03\r",
      "\u001b[K     |████████████████████▏           | 6.0 MB 1.3 MB/s eta 0:00:03\r",
      "\u001b[K     |████████████████████▏           | 6.0 MB 1.3 MB/s eta 0:00:03\r",
      "\u001b[K     |████████████████████▏           | 6.0 MB 1.3 MB/s eta 0:00:03\r",
      "\u001b[K     |████████████████████▎           | 6.0 MB 1.3 MB/s eta 0:00:03"
     ]
    },
    {
     "name": "stdout",
     "output_type": "stream",
     "text": [
      "\r",
      "\u001b[K     |████████████████████▎           | 6.0 MB 1.3 MB/s eta 0:00:03\r",
      "\u001b[K     |████████████████████▎           | 6.0 MB 1.3 MB/s eta 0:00:03\r",
      "\u001b[K     |████████████████████▍           | 6.0 MB 1.3 MB/s eta 0:00:03\r",
      "\u001b[K     |████████████████████▍           | 6.0 MB 1.3 MB/s eta 0:00:03\r",
      "\u001b[K     |████████████████████▍           | 6.0 MB 1.3 MB/s eta 0:00:03"
     ]
    },
    {
     "name": "stdout",
     "output_type": "stream",
     "text": [
      "\r",
      "\u001b[K     |████████████████████▌           | 6.1 MB 1.3 MB/s eta 0:00:03\r",
      "\u001b[K     |████████████████████▌           | 6.1 MB 1.3 MB/s eta 0:00:03\r",
      "\u001b[K     |████████████████████▌           | 6.1 MB 1.3 MB/s eta 0:00:03\r",
      "\u001b[K     |████████████████████▋           | 6.1 MB 1.3 MB/s eta 0:00:03\r",
      "\u001b[K     |████████████████████▋           | 6.1 MB 1.3 MB/s eta 0:00:03\r",
      "\u001b[K     |████████████████████▋           | 6.1 MB 1.3 MB/s eta 0:00:03\r",
      "\u001b[K     |████████████████████▊           | 6.1 MB 1.3 MB/s eta 0:00:03\r",
      "\u001b[K     |████████████████████▊           | 6.1 MB 1.3 MB/s eta 0:00:03"
     ]
    },
    {
     "name": "stdout",
     "output_type": "stream",
     "text": [
      "\r",
      "\u001b[K     |████████████████████▊           | 6.1 MB 1.3 MB/s eta 0:00:03\r",
      "\u001b[K     |████████████████████▊           | 6.1 MB 1.3 MB/s eta 0:00:03\r",
      "\u001b[K     |████████████████████▉           | 6.2 MB 1.3 MB/s eta 0:00:03\r",
      "\u001b[K     |████████████████████▉           | 6.2 MB 1.3 MB/s eta 0:00:03\r",
      "\u001b[K     |████████████████████▉           | 6.2 MB 1.3 MB/s eta 0:00:03"
     ]
    },
    {
     "name": "stdout",
     "output_type": "stream",
     "text": [
      "\r",
      "\u001b[K     |█████████████████████           | 6.2 MB 1.3 MB/s eta 0:00:03\r",
      "\u001b[K     |█████████████████████           | 6.2 MB 1.3 MB/s eta 0:00:03\r",
      "\u001b[K     |█████████████████████           | 6.2 MB 1.3 MB/s eta 0:00:03"
     ]
    },
    {
     "name": "stdout",
     "output_type": "stream",
     "text": [
      "\r",
      "\u001b[K     |█████████████████████           | 6.2 MB 1.3 MB/s eta 0:00:03\r",
      "\u001b[K     |█████████████████████           | 6.2 MB 1.3 MB/s eta 0:00:03\r",
      "\u001b[K     |█████████████████████           | 6.2 MB 1.3 MB/s eta 0:00:03\r",
      "\u001b[K     |█████████████████████▏          | 6.2 MB 1.3 MB/s eta 0:00:03\r",
      "\u001b[K     |█████████████████████▏          | 6.3 MB 1.3 MB/s eta 0:00:03\r",
      "\u001b[K     |█████████████████████▏          | 6.3 MB 1.3 MB/s eta 0:00:03\r",
      "\u001b[K     |█████████████████████▎          | 6.3 MB 1.3 MB/s eta 0:00:03\r",
      "\u001b[K     |█████████████████████▎          | 6.3 MB 1.3 MB/s eta 0:00:03\r",
      "\u001b[K     |█████████████████████▎          | 6.3 MB 1.3 MB/s eta 0:00:03\r",
      "\u001b[K     |█████████████████████▎          | 6.3 MB 1.3 MB/s eta 0:00:03"
     ]
    },
    {
     "name": "stdout",
     "output_type": "stream",
     "text": [
      "\r",
      "\u001b[K     |█████████████████████▍          | 6.3 MB 1.3 MB/s eta 0:00:03\r",
      "\u001b[K     |█████████████████████▍          | 6.3 MB 1.3 MB/s eta 0:00:03\r",
      "\u001b[K     |█████████████████████▍          | 6.3 MB 1.3 MB/s eta 0:00:03\r",
      "\u001b[K     |█████████████████████▌          | 6.3 MB 1.3 MB/s eta 0:00:03\r",
      "\u001b[K     |█████████████████████▌          | 6.4 MB 1.3 MB/s eta 0:00:03\r",
      "\u001b[K     |█████████████████████▌          | 6.4 MB 1.3 MB/s eta 0:00:03\r",
      "\u001b[K     |█████████████████████▋          | 6.4 MB 1.3 MB/s eta 0:00:03\r",
      "\u001b[K     |█████████████████████▋          | 6.4 MB 1.3 MB/s eta 0:00:03"
     ]
    },
    {
     "name": "stdout",
     "output_type": "stream",
     "text": [
      "\r",
      "\u001b[K     |█████████████████████▋          | 6.4 MB 1.3 MB/s eta 0:00:03\r",
      "\u001b[K     |█████████████████████▊          | 6.4 MB 1.3 MB/s eta 0:00:03\r",
      "\u001b[K     |█████████████████████▊          | 6.4 MB 1.3 MB/s eta 0:00:03\r",
      "\u001b[K     |█████████████████████▊          | 6.4 MB 1.3 MB/s eta 0:00:03"
     ]
    },
    {
     "name": "stdout",
     "output_type": "stream",
     "text": [
      "\r",
      "\u001b[K     |█████████████████████▊          | 6.4 MB 1.3 MB/s eta 0:00:03\r",
      "\u001b[K     |█████████████████████▉          | 6.5 MB 1.3 MB/s eta 0:00:03\r",
      "\u001b[K     |█████████████████████▉          | 6.5 MB 1.3 MB/s eta 0:00:03\r",
      "\u001b[K     |█████████████████████▉          | 6.5 MB 1.3 MB/s eta 0:00:03\r",
      "\u001b[K     |██████████████████████          | 6.5 MB 1.3 MB/s eta 0:00:03"
     ]
    },
    {
     "name": "stdout",
     "output_type": "stream",
     "text": [
      "\r",
      "\u001b[K     |██████████████████████          | 6.5 MB 1.3 MB/s eta 0:00:03\r",
      "\u001b[K     |██████████████████████          | 6.5 MB 1.3 MB/s eta 0:00:03\r",
      "\u001b[K     |██████████████████████          | 6.5 MB 1.3 MB/s eta 0:00:03\r",
      "\u001b[K     |██████████████████████          | 6.5 MB 1.3 MB/s eta 0:00:03\r",
      "\u001b[K     |██████████████████████          | 6.5 MB 1.3 MB/s eta 0:00:03"
     ]
    },
    {
     "name": "stdout",
     "output_type": "stream",
     "text": [
      "\r",
      "\u001b[K     |██████████████████████▏         | 6.5 MB 1.3 MB/s eta 0:00:03\r",
      "\u001b[K     |██████████████████████▏         | 6.6 MB 1.3 MB/s eta 0:00:03\r",
      "\u001b[K     |██████████████████████▏         | 6.6 MB 1.3 MB/s eta 0:00:03\r",
      "\u001b[K     |██████████████████████▎         | 6.6 MB 1.3 MB/s eta 0:00:03\r",
      "\u001b[K     |██████████████████████▎         | 6.6 MB 1.3 MB/s eta 0:00:03"
     ]
    },
    {
     "name": "stdout",
     "output_type": "stream",
     "text": [
      "\r",
      "\u001b[K     |██████████████████████▎         | 6.6 MB 1.3 MB/s eta 0:00:03\r",
      "\u001b[K     |██████████████████████▎         | 6.6 MB 1.3 MB/s eta 0:00:03\r",
      "\u001b[K     |██████████████████████▍         | 6.6 MB 1.3 MB/s eta 0:00:03\r",
      "\u001b[K     |██████████████████████▍         | 6.6 MB 1.3 MB/s eta 0:00:03\r",
      "\u001b[K     |██████████████████████▍         | 6.6 MB 1.3 MB/s eta 0:00:03\r",
      "\u001b[K     |██████████████████████▌         | 6.6 MB 1.3 MB/s eta 0:00:03"
     ]
    },
    {
     "name": "stdout",
     "output_type": "stream",
     "text": [
      "\r",
      "\u001b[K     |██████████████████████▌         | 6.7 MB 1.3 MB/s eta 0:00:03\r",
      "\u001b[K     |██████████████████████▌         | 6.7 MB 1.3 MB/s eta 0:00:03\r",
      "\u001b[K     |██████████████████████▋         | 6.7 MB 1.3 MB/s eta 0:00:03"
     ]
    },
    {
     "name": "stdout",
     "output_type": "stream",
     "text": [
      "\r",
      "\u001b[K     |██████████████████████▋         | 6.7 MB 1.3 MB/s eta 0:00:03\r",
      "\u001b[K     |██████████████████████▋         | 6.7 MB 1.3 MB/s eta 0:00:03\r",
      "\u001b[K     |██████████████████████▊         | 6.7 MB 1.3 MB/s eta 0:00:03\r",
      "\u001b[K     |██████████████████████▊         | 6.7 MB 1.3 MB/s eta 0:00:03\r",
      "\u001b[K     |██████████████████████▊         | 6.7 MB 1.3 MB/s eta 0:00:03"
     ]
    },
    {
     "name": "stdout",
     "output_type": "stream",
     "text": [
      "\r",
      "\u001b[K     |██████████████████████▉         | 6.7 MB 1.3 MB/s eta 0:00:03\r",
      "\u001b[K     |██████████████████████▉         | 6.7 MB 1.3 MB/s eta 0:00:03\r",
      "\u001b[K     |██████████████████████▉         | 6.8 MB 1.3 MB/s eta 0:00:03"
     ]
    },
    {
     "name": "stdout",
     "output_type": "stream",
     "text": [
      "\r",
      "\u001b[K     |██████████████████████▉         | 6.8 MB 1.3 MB/s eta 0:00:03\r",
      "\u001b[K     |███████████████████████         | 6.8 MB 1.3 MB/s eta 0:00:03\r",
      "\u001b[K     |███████████████████████         | 6.8 MB 1.3 MB/s eta 0:00:03\r",
      "\u001b[K     |███████████████████████         | 6.8 MB 1.3 MB/s eta 0:00:03\r",
      "\u001b[K     |███████████████████████         | 6.8 MB 1.3 MB/s eta 0:00:03\r",
      "\u001b[K     |███████████████████████         | 6.8 MB 1.3 MB/s eta 0:00:03\r",
      "\u001b[K     |███████████████████████         | 6.8 MB 1.3 MB/s eta 0:00:03"
     ]
    },
    {
     "name": "stdout",
     "output_type": "stream",
     "text": [
      "\r",
      "\u001b[K     |███████████████████████▏        | 6.8 MB 1.3 MB/s eta 0:00:03\r",
      "\u001b[K     |███████████████████████▏        | 6.9 MB 1.3 MB/s eta 0:00:03\r",
      "\u001b[K     |███████████████████████▏        | 6.9 MB 1.3 MB/s eta 0:00:03\r",
      "\u001b[K     |███████████████████████▎        | 6.9 MB 1.3 MB/s eta 0:00:03\r",
      "\u001b[K     |███████████████████████▎        | 6.9 MB 1.3 MB/s eta 0:00:03"
     ]
    },
    {
     "name": "stdout",
     "output_type": "stream",
     "text": [
      "\r",
      "\u001b[K     |███████████████████████▎        | 6.9 MB 1.3 MB/s eta 0:00:02\r",
      "\u001b[K     |███████████████████████▍        | 6.9 MB 1.3 MB/s eta 0:00:02\r",
      "\u001b[K     |███████████████████████▍        | 6.9 MB 1.3 MB/s eta 0:00:02"
     ]
    },
    {
     "name": "stdout",
     "output_type": "stream",
     "text": [
      "\r",
      "\u001b[K     |███████████████████████▍        | 6.9 MB 1.3 MB/s eta 0:00:02\r",
      "\u001b[K     |███████████████████████▍        | 6.9 MB 1.3 MB/s eta 0:00:02\r",
      "\u001b[K     |███████████████████████▌        | 6.9 MB 1.3 MB/s eta 0:00:02\r",
      "\u001b[K     |███████████████████████▌        | 7.0 MB 806 kB/s eta 0:00:04\r",
      "\u001b[K     |███████████████████████▌        | 7.0 MB 806 kB/s eta 0:00:04"
     ]
    },
    {
     "name": "stdout",
     "output_type": "stream",
     "text": [
      "\r",
      "\u001b[K     |███████████████████████▋        | 7.0 MB 806 kB/s eta 0:00:04\r",
      "\u001b[K     |███████████████████████▋        | 7.0 MB 806 kB/s eta 0:00:04\r",
      "\u001b[K     |███████████████████████▋        | 7.0 MB 806 kB/s eta 0:00:04"
     ]
    },
    {
     "name": "stdout",
     "output_type": "stream",
     "text": [
      "\r",
      "\u001b[K     |███████████████████████▊        | 7.0 MB 806 kB/s eta 0:00:04\r",
      "\u001b[K     |███████████████████████▊        | 7.0 MB 806 kB/s eta 0:00:04\r",
      "\u001b[K     |███████████████████████▊        | 7.0 MB 806 kB/s eta 0:00:04"
     ]
    },
    {
     "name": "stdout",
     "output_type": "stream",
     "text": [
      "\r",
      "\u001b[K     |███████████████████████▉        | 7.0 MB 806 kB/s eta 0:00:04\r",
      "\u001b[K     |███████████████████████▉        | 7.0 MB 806 kB/s eta 0:00:04\r",
      "\u001b[K     |███████████████████████▉        | 7.1 MB 806 kB/s eta 0:00:03\r",
      "\u001b[K     |████████████████████████        | 7.1 MB 806 kB/s eta 0:00:03\r",
      "\u001b[K     |████████████████████████        | 7.1 MB 806 kB/s eta 0:00:03"
     ]
    },
    {
     "name": "stdout",
     "output_type": "stream",
     "text": [
      "\r",
      "\u001b[K     |████████████████████████        | 7.1 MB 806 kB/s eta 0:00:03\r",
      "\u001b[K     |████████████████████████        | 7.1 MB 806 kB/s eta 0:00:03\r",
      "\u001b[K     |████████████████████████        | 7.1 MB 806 kB/s eta 0:00:03"
     ]
    },
    {
     "name": "stdout",
     "output_type": "stream",
     "text": [
      "\r",
      "\u001b[K     |████████████████████████        | 7.1 MB 806 kB/s eta 0:00:03\r",
      "\u001b[K     |████████████████████████        | 7.1 MB 806 kB/s eta 0:00:03\r",
      "\u001b[K     |████████████████████████▏       | 7.1 MB 806 kB/s eta 0:00:03\r",
      "\u001b[K     |████████████████████████▏       | 7.1 MB 806 kB/s eta 0:00:03\r",
      "\u001b[K     |████████████████████████▏       | 7.2 MB 806 kB/s eta 0:00:03"
     ]
    },
    {
     "name": "stdout",
     "output_type": "stream",
     "text": [
      "\r",
      "\u001b[K     |████████████████████████▎       | 7.2 MB 806 kB/s eta 0:00:03\r",
      "\u001b[K     |████████████████████████▎       | 7.2 MB 806 kB/s eta 0:00:03\r",
      "\u001b[K     |████████████████████████▎       | 7.2 MB 806 kB/s eta 0:00:03\r",
      "\u001b[K     |████████████████████████▍       | 7.2 MB 806 kB/s eta 0:00:03\r",
      "\u001b[K     |████████████████████████▍       | 7.2 MB 806 kB/s eta 0:00:03"
     ]
    },
    {
     "name": "stdout",
     "output_type": "stream",
     "text": [
      "\r",
      "\u001b[K     |████████████████████████▍       | 7.2 MB 806 kB/s eta 0:00:03\r",
      "\u001b[K     |████████████████████████▍       | 7.2 MB 806 kB/s eta 0:00:03\r",
      "\u001b[K     |████████████████████████▌       | 7.2 MB 806 kB/s eta 0:00:03"
     ]
    },
    {
     "name": "stdout",
     "output_type": "stream",
     "text": [
      "\r",
      "\u001b[K     |████████████████████████▌       | 7.2 MB 806 kB/s eta 0:00:03"
     ]
    },
    {
     "name": "stdout",
     "output_type": "stream",
     "text": [
      "\r",
      "\u001b[K     |████████████████████████▌       | 7.3 MB 806 kB/s eta 0:00:03\r",
      "\u001b[K     |████████████████████████▋       | 7.3 MB 806 kB/s eta 0:00:03\r",
      "\u001b[K     |████████████████████████▋       | 7.3 MB 806 kB/s eta 0:00:03\r",
      "\u001b[K     |████████████████████████▋       | 7.3 MB 806 kB/s eta 0:00:03\r",
      "\u001b[K     |████████████████████████▊       | 7.3 MB 806 kB/s eta 0:00:03\r",
      "\u001b[K     |████████████████████████▊       | 7.3 MB 806 kB/s eta 0:00:03\r",
      "\u001b[K     |████████████████████████▊       | 7.3 MB 806 kB/s eta 0:00:03\r",
      "\u001b[K     |████████████████████████▉       | 7.3 MB 806 kB/s eta 0:00:03\r",
      "\u001b[K     |████████████████████████▉       | 7.3 MB 806 kB/s eta 0:00:03"
     ]
    },
    {
     "name": "stdout",
     "output_type": "stream",
     "text": [
      "\r",
      "\u001b[K     |████████████████████████▉       | 7.4 MB 806 kB/s eta 0:00:03\r",
      "\u001b[K     |█████████████████████████       | 7.4 MB 806 kB/s eta 0:00:03\r",
      "\u001b[K     |█████████████████████████       | 7.4 MB 806 kB/s eta 0:00:03\r",
      "\u001b[K     |█████████████████████████       | 7.4 MB 806 kB/s eta 0:00:03\r",
      "\u001b[K     |█████████████████████████       | 7.4 MB 806 kB/s eta 0:00:03\r",
      "\u001b[K     |█████████████████████████       | 7.4 MB 806 kB/s eta 0:00:03"
     ]
    },
    {
     "name": "stdout",
     "output_type": "stream",
     "text": [
      "\r",
      "\u001b[K     |█████████████████████████       | 7.4 MB 806 kB/s eta 0:00:03\r",
      "\u001b[K     |█████████████████████████       | 7.4 MB 806 kB/s eta 0:00:03\r",
      "\u001b[K     |█████████████████████████▏      | 7.4 MB 806 kB/s eta 0:00:03\r",
      "\u001b[K"
     ]
    },
    {
     "name": "stdout",
     "output_type": "stream",
     "text": [
      "     |█████████████████████████▏      | 7.4 MB 806 kB/s eta 0:00:03\r",
      "\u001b[K     |█████████████████████████▏      | 7.5 MB 806 kB/s eta 0:00:03\r",
      "\u001b[K     |█████████████████████████▎      | 7.5 MB 806 kB/s eta 0:00:03\r",
      "\u001b[K     |█████████████████████████▎      | 7.5 MB 806 kB/s eta 0:00:03\r",
      "\u001b[K     |█████████████████████████▎      | 7.5 MB 806 kB/s eta 0:00:03\r",
      "\u001b[K     |█████████████████████████▍      | 7.5 MB 806 kB/s eta 0:00:03"
     ]
    },
    {
     "name": "stdout",
     "output_type": "stream",
     "text": [
      "\r",
      "\u001b[K     |█████████████████████████▍      | 7.5 MB 806 kB/s eta 0:00:03\r",
      "\u001b[K     |█████████████████████████▍      | 7.5 MB 806 kB/s eta 0:00:03\r",
      "\u001b[K     |█████████████████████████▌      | 7.5 MB 806 kB/s eta 0:00:03\r",
      "\u001b[K     |█████████████████████████▌      | 7.5 MB 806 kB/s eta 0:00:03\r",
      "\u001b[K     |█████████████████████████▌      | 7.5 MB 806 kB/s eta 0:00:03"
     ]
    },
    {
     "name": "stdout",
     "output_type": "stream",
     "text": [
      "\r",
      "\u001b[K     |█████████████████████████▌      | 7.6 MB 806 kB/s eta 0:00:03\r",
      "\u001b[K     |█████████████████████████▋      | 7.6 MB 806 kB/s eta 0:00:03\r",
      "\u001b[K     |█████████████████████████▋      | 7.6 MB 806 kB/s eta 0:00:03\r",
      "\u001b[K     |█████████████████████████▋      | 7.6 MB 806 kB/s eta 0:00:03\r",
      "\u001b[K     |█████████████████████████▊      | 7.6 MB 806 kB/s eta 0:00:03\r",
      "\u001b[K     |█████████████████████████▊      | 7.6 MB 806 kB/s eta 0:00:03\r",
      "\u001b[K     |█████████████████████████▊      | 7.6 MB 806 kB/s eta 0:00:03"
     ]
    },
    {
     "name": "stdout",
     "output_type": "stream",
     "text": [
      "\r",
      "\u001b[K     |█████████████████████████▉      | 7.6 MB 806 kB/s eta 0:00:03\r",
      "\u001b[K     |█████████████████████████▉      | 7.6 MB 806 kB/s eta 0:00:03\r",
      "\u001b[K     |█████████████████████████▉      | 7.6 MB 806 kB/s eta 0:00:03\r",
      "\u001b[K     |██████████████████████████      | 7.7 MB 806 kB/s eta 0:00:03"
     ]
    },
    {
     "name": "stdout",
     "output_type": "stream",
     "text": [
      "\r",
      "\u001b[K     |██████████████████████████      | 7.7 MB 806 kB/s eta 0:00:03\r",
      "\u001b[K     |██████████████████████████      | 7.7 MB 806 kB/s eta 0:00:03\r",
      "\u001b[K     |██████████████████████████      | 7.7 MB 806 kB/s eta 0:00:03\r",
      "\u001b[K     |██████████████████████████      | 7.7 MB 806 kB/s eta 0:00:03\r",
      "\u001b[K     |██████████████████████████      | 7.7 MB 806 kB/s eta 0:00:03"
     ]
    },
    {
     "name": "stdout",
     "output_type": "stream",
     "text": [
      "\r",
      "\u001b[K     |██████████████████████████      | 7.7 MB 875 kB/s eta 0:00:02\r",
      "\u001b[K     |██████████████████████████▏     | 7.7 MB 875 kB/s eta 0:00:02"
     ]
    },
    {
     "name": "stdout",
     "output_type": "stream",
     "text": [
      "\r",
      "\u001b[K     |██████████████████████████▏     | 7.7 MB 875 kB/s eta 0:00:02"
     ]
    },
    {
     "name": "stdout",
     "output_type": "stream",
     "text": [
      "\r",
      "\u001b[K     |██████████████████████████▏     | 7.8 MB 875 kB/s eta 0:00:02\r",
      "\u001b[K     |██████████████████████████▎     | 7.8 MB 875 kB/s eta 0:00:02\r",
      "\u001b[K     |██████████████████████████▎     | 7.8 MB 875 kB/s eta 0:00:02\r",
      "\u001b[K     |██████████████████████████▎     | 7.8 MB 875 kB/s eta 0:00:02\r",
      "\u001b[K     |██████████████████████████▍     | 7.8 MB 875 kB/s eta 0:00:02\r",
      "\u001b[K     |██████████████████████████▍     | 7.8 MB 875 kB/s eta 0:00:02\r",
      "\u001b[K     |██████████████████████████▍     | 7.8 MB 875 kB/s eta 0:00:02\r",
      "\u001b[K     |██████████████████████████▌     | 7.8 MB 875 kB/s eta 0:00:02\r",
      "\u001b[K     |██████████████████████████▌     | 7.8 MB 875 kB/s eta 0:00:02\r",
      "\u001b[K     |██████████████████████████▌     | 7.8 MB 875 kB/s eta 0:00:02"
     ]
    },
    {
     "name": "stdout",
     "output_type": "stream",
     "text": [
      "\r",
      "\u001b[K     |██████████████████████████▌     | 7.9 MB 875 kB/s eta 0:00:02\r",
      "\u001b[K     |██████████████████████████▋     | 7.9 MB 875 kB/s eta 0:00:02\r",
      "\u001b[K     |██████████████████████████▋     | 7.9 MB 875 kB/s eta 0:00:02\r",
      "\u001b[K     |██████████████████████████▋     | 7.9 MB 875 kB/s eta 0:00:02\r",
      "\u001b[K     |██████████████████████████▊     | 7.9 MB 875 kB/s eta 0:00:02"
     ]
    },
    {
     "name": "stdout",
     "output_type": "stream",
     "text": [
      "\r",
      "\u001b[K     |██████████████████████████▊     | 7.9 MB 875 kB/s eta 0:00:02\r",
      "\u001b[K     |██████████████████████████▊     | 7.9 MB 875 kB/s eta 0:00:02\r",
      "\u001b[K     |██████████████████████████▉     | 7.9 MB 875 kB/s eta 0:00:02\r",
      "\u001b[K     |██████████████████████████▉     | 7.9 MB 875 kB/s eta 0:00:02\r",
      "\u001b[K     |██████████████████████████▉     | 7.9 MB 875 kB/s eta 0:00:02"
     ]
    },
    {
     "name": "stdout",
     "output_type": "stream",
     "text": [
      "\r",
      "\u001b[K     |███████████████████████████     | 8.0 MB 875 kB/s eta 0:00:02\r",
      "\u001b[K     |███████████████████████████     | 8.0 MB 875 kB/s eta 0:00:02\r",
      "\u001b[K     |███████████████████████████     | 8.0 MB 875 kB/s eta 0:00:02\r",
      "\u001b[K     |███████████████████████████     | 8.0 MB 875 kB/s eta 0:00:02"
     ]
    },
    {
     "name": "stdout",
     "output_type": "stream",
     "text": [
      "\r",
      "\u001b[K     |███████████████████████████     | 8.0 MB 875 kB/s eta 0:00:02\r",
      "\u001b[K     |███████████████████████████     | 8.0 MB 875 kB/s eta 0:00:02\r",
      "\u001b[K     |███████████████████████████     | 8.0 MB 875 kB/s eta 0:00:02\r",
      "\u001b[K     |███████████████████████████▏    | 8.0 MB 875 kB/s eta 0:00:02\r",
      "\u001b[K     |███████████████████████████▏    | 8.0 MB 875 kB/s eta 0:00:02\r",
      "\u001b[K     |███████████████████████████▏    | 8.0 MB 875 kB/s eta 0:00:02\r",
      "\u001b[K     |███████████████████████████▎    | 8.1 MB 875 kB/s eta 0:00:02\r",
      "\u001b[K     |███████████████████████████▎    | 8.1 MB 875 kB/s eta 0:00:02"
     ]
    },
    {
     "name": "stdout",
     "output_type": "stream",
     "text": [
      "\r",
      "\u001b[K     |███████████████████████████▎    | 8.1 MB 875 kB/s eta 0:00:02\r",
      "\u001b[K     |███████████████████████████▍    | 8.1 MB 875 kB/s eta 0:00:02\r",
      "\u001b[K     |███████████████████████████▍    | 8.1 MB 875 kB/s eta 0:00:02\r",
      "\u001b[K     |███████████████████████████▍    | 8.1 MB 875 kB/s eta 0:00:02\r",
      "\u001b[K     |███████████████████████████▌    | 8.1 MB 875 kB/s eta 0:00:02"
     ]
    },
    {
     "name": "stdout",
     "output_type": "stream",
     "text": [
      "\r",
      "\u001b[K     |███████████████████████████▌    | 8.1 MB 875 kB/s eta 0:00:02\r",
      "\u001b[K     |███████████████████████████▌    | 8.1 MB 875 kB/s eta 0:00:02\r",
      "\u001b[K     |███████████████████████████▋    | 8.2 MB 875 kB/s eta 0:00:02\r",
      "\u001b[K     |███████████████████████████▋    | 8.2 MB 875 kB/s eta 0:00:02\r",
      "\u001b[K     |███████████████████████████▋    | 8.2 MB 875 kB/s eta 0:00:02\r",
      "\u001b[K     |███████████████████████████▋    | 8.2 MB 875 kB/s eta 0:00:02\r",
      "\u001b[K     |███████████████████████████▊    | 8.2 MB 875 kB/s eta 0:00:02"
     ]
    },
    {
     "name": "stdout",
     "output_type": "stream",
     "text": [
      "\r",
      "\u001b[K     |███████████████████████████▊    | 8.2 MB 875 kB/s eta 0:00:02\r",
      "\u001b[K     |███████████████████████████▊    | 8.2 MB 875 kB/s eta 0:00:02\r",
      "\u001b[K     |███████████████████████████▉    | 8.2 MB 875 kB/s eta 0:00:02\r",
      "\u001b[K     |███████████████████████████▉    | 8.2 MB 875 kB/s eta 0:00:02"
     ]
    },
    {
     "name": "stdout",
     "output_type": "stream",
     "text": [
      "\r",
      "\u001b[K     |███████████████████████████▉    | 8.2 MB 875 kB/s eta 0:00:02\r",
      "\u001b[K     |████████████████████████████    | 8.3 MB 875 kB/s eta 0:00:02\r",
      "\u001b[K     |████████████████████████████    | 8.3 MB 875 kB/s eta 0:00:02\r",
      "\u001b[K     |████████████████████████████    | 8.3 MB 875 kB/s eta 0:00:02\r",
      "\u001b[K     |████████████████████████████    | 8.3 MB 875 kB/s eta 0:00:02"
     ]
    },
    {
     "name": "stdout",
     "output_type": "stream",
     "text": [
      "\r",
      "\u001b[K     |████████████████████████████    | 8.3 MB 875 kB/s eta 0:00:02\r",
      "\u001b[K     |████████████████████████████    | 8.3 MB 875 kB/s eta 0:00:02\r",
      "\u001b[K     |████████████████████████████▏   | 8.3 MB 875 kB/s eta 0:00:02\r",
      "\u001b[K     |████████████████████████████▏   | 8.3 MB 875 kB/s eta 0:00:02\r",
      "\u001b[K     |████████████████████████████▏   | 8.3 MB 875 kB/s eta 0:00:02\r",
      "\u001b[K     |████████████████████████████▏   | 8.3 MB 875 kB/s eta 0:00:02\r",
      "\u001b[K     |████████████████████████████▎   | 8.4 MB 875 kB/s eta 0:00:02\r",
      "\u001b[K     |████████████████████████████▎   | 8.4 MB 875 kB/s eta 0:00:02"
     ]
    },
    {
     "name": "stdout",
     "output_type": "stream",
     "text": [
      "\r",
      "\u001b[K     |████████████████████████████▎   | 8.4 MB 875 kB/s eta 0:00:02\r",
      "\u001b[K     |████████████████████████████▍   | 8.4 MB 875 kB/s eta 0:00:02\r",
      "\u001b[K     |████████████████████████████▍   | 8.4 MB 875 kB/s eta 0:00:02\r",
      "\u001b[K     |████████████████████████████▍   | 8.4 MB 875 kB/s eta 0:00:02\r",
      "\u001b[K     |████████████████████████████▌   | 8.4 MB 875 kB/s eta 0:00:02"
     ]
    },
    {
     "name": "stdout",
     "output_type": "stream",
     "text": [
      "\r",
      "\u001b[K     |████████████████████████████▌   | 8.4 MB 875 kB/s eta 0:00:02\r",
      "\u001b[K     |████████████████████████████▌   | 8.4 MB 875 kB/s eta 0:00:02\r",
      "\u001b[K     |████████████████████████████▋   | 8.4 MB 875 kB/s eta 0:00:02\r",
      "\u001b[K     |████████████████████████████▋   | 8.5 MB 875 kB/s eta 0:00:02\r",
      "\u001b[K     |████████████████████████████▋   | 8.5 MB 875 kB/s eta 0:00:02\r",
      "\u001b[K     |████████████████████████████▊   | 8.5 MB 875 kB/s eta 0:00:02"
     ]
    },
    {
     "name": "stdout",
     "output_type": "stream",
     "text": [
      "\r",
      "\u001b[K     |████████████████████████████▊   | 8.5 MB 875 kB/s eta 0:00:02\r",
      "\u001b[K     |████████████████████████████▊   | 8.5 MB 875 kB/s eta 0:00:02\r",
      "\u001b[K     |████████████████████████████▊   | 8.5 MB 875 kB/s eta 0:00:02\r",
      "\u001b[K     |████████████████████████████▉   | 8.5 MB 875 kB/s eta 0:00:02"
     ]
    },
    {
     "name": "stdout",
     "output_type": "stream",
     "text": [
      "\r",
      "\u001b[K     |████████████████████████████▉   | 8.5 MB 490 kB/s eta 0:00:02\r",
      "\u001b[K     |████████████████████████████▉   | 8.5 MB 490 kB/s eta 0:00:02\r",
      "\u001b[K     |█████████████████████████████   | 8.6 MB 490 kB/s eta 0:00:02\r",
      "\u001b[K     |█████████████████████████████   | 8.6 MB 490 kB/s eta 0:00:02"
     ]
    },
    {
     "name": "stdout",
     "output_type": "stream",
     "text": [
      "\r",
      "\u001b[K     |█████████████████████████████   | 8.6 MB 490 kB/s eta 0:00:02\r",
      "\u001b[K     |█████████████████████████████   | 8.6 MB 490 kB/s eta 0:00:02\r",
      "\u001b[K     |█████████████████████████████   | 8.6 MB 490 kB/s eta 0:00:02\r",
      "\u001b[K     |█████████████████████████████   | 8.6 MB 490 kB/s eta 0:00:02\r",
      "\u001b[K     |█████████████████████████████▏  | 8.6 MB 490 kB/s eta 0:00:02\r",
      "\u001b[K     |█████████████████████████████▏  | 8.6 MB 490 kB/s eta 0:00:02\r",
      "\u001b[K     |█████████████████████████████▏  | 8.6 MB 490 kB/s eta 0:00:02\r",
      "\u001b[K     |█████████████████████████████▏  | 8.6 MB 490 kB/s eta 0:00:02"
     ]
    },
    {
     "name": "stdout",
     "output_type": "stream",
     "text": [
      "\r",
      "\u001b[K     |█████████████████████████████▎  | 8.7 MB 490 kB/s eta 0:00:02\r",
      "\u001b[K     |█████████████████████████████▎  | 8.7 MB 490 kB/s eta 0:00:02\r",
      "\u001b[K     |█████████████████████████████▎  | 8.7 MB 490 kB/s eta 0:00:02\r",
      "\u001b[K     |█████████████████████████████▍  | 8.7 MB 490 kB/s eta 0:00:02\r",
      "\u001b[K     |█████████████████████████████▍  | 8.7 MB 490 kB/s eta 0:00:02\r",
      "\u001b[K     |█████████████████████████████▍  | 8.7 MB 490 kB/s eta 0:00:02\r",
      "\u001b[K     |█████████████████████████████▌  | 8.7 MB 490 kB/s eta 0:00:02"
     ]
    },
    {
     "name": "stdout",
     "output_type": "stream",
     "text": [
      "\r",
      "\u001b[K     |█████████████████████████████▌  | 8.7 MB 490 kB/s eta 0:00:02\r",
      "\u001b[K     |█████████████████████████████▌  | 8.7 MB 490 kB/s eta 0:00:02\r",
      "\u001b[K     |█████████████████████████████▋  | 8.7 MB 490 kB/s eta 0:00:02\r",
      "\u001b[K     |█████████████████████████████▋  | 8.8 MB 490 kB/s eta 0:00:02\r",
      "\u001b[K     |█████████████████████████████▋  | 8.8 MB 490 kB/s eta 0:00:02"
     ]
    },
    {
     "name": "stdout",
     "output_type": "stream",
     "text": [
      "\r",
      "\u001b[K     |█████████████████████████████▊  | 8.8 MB 490 kB/s eta 0:00:02\r",
      "\u001b[K     |█████████████████████████████▊  | 8.8 MB 490 kB/s eta 0:00:02\r",
      "\u001b[K     |█████████████████████████████▊  | 8.8 MB 490 kB/s eta 0:00:02\r",
      "\u001b[K     |█████████████████████████████▊  | 8.8 MB 490 kB/s eta 0:00:02\r",
      "\u001b[K     |█████████████████████████████▉  | 8.8 MB 490 kB/s eta 0:00:02\r",
      "\u001b[K     |█████████████████████████████▉  | 8.8 MB 490 kB/s eta 0:00:02"
     ]
    },
    {
     "name": "stdout",
     "output_type": "stream",
     "text": [
      "\r",
      "\u001b[K     |█████████████████████████████▉  | 8.8 MB 490 kB/s eta 0:00:02\r",
      "\u001b[K     |██████████████████████████████  | 8.8 MB 490 kB/s eta 0:00:02\r",
      "\u001b[K     |██████████████████████████████  | 8.9 MB 490 kB/s eta 0:00:02\r",
      "\u001b[K     |██████████████████████████████  | 8.9 MB 490 kB/s eta 0:00:02\r",
      "\u001b[K     |██████████████████████████████  | 8.9 MB 490 kB/s eta 0:00:02\r",
      "\u001b[K     |██████████████████████████████  | 8.9 MB 490 kB/s eta 0:00:02"
     ]
    },
    {
     "name": "stdout",
     "output_type": "stream",
     "text": [
      "\r",
      "\u001b[K     |██████████████████████████████  | 8.9 MB 490 kB/s eta 0:00:02\r",
      "\u001b[K     |██████████████████████████████▏ | 8.9 MB 490 kB/s eta 0:00:02\r",
      "\u001b[K     |██████████████████████████████▏ | 8.9 MB 490 kB/s eta 0:00:02\r",
      "\u001b[K     |██████████████████████████████▏ | 8.9 MB 490 kB/s eta 0:00:02\r",
      "\u001b[K     |██████████████████████████████▎ | 8.9 MB 490 kB/s eta 0:00:02"
     ]
    },
    {
     "name": "stdout",
     "output_type": "stream",
     "text": [
      "\r",
      "\u001b[K     |██████████████████████████████▎ | 8.9 MB 490 kB/s eta 0:00:02\r",
      "\u001b[K     |██████████████████████████████▎ | 9.0 MB 490 kB/s eta 0:00:02\r",
      "\u001b[K     |██████████████████████████████▎ | 9.0 MB 490 kB/s eta 0:00:02"
     ]
    },
    {
     "name": "stdout",
     "output_type": "stream",
     "text": [
      "\r",
      "\u001b[K     |██████████████████████████████▍ | 9.0 MB 490 kB/s eta 0:00:01\r",
      "\u001b[K     |██████████████████████████████▍ | 9.0 MB 490 kB/s eta 0:00:01"
     ]
    },
    {
     "name": "stdout",
     "output_type": "stream",
     "text": [
      "\r",
      "\u001b[K     |██████████████████████████████▍ | 9.0 MB 490 kB/s eta 0:00:01\r",
      "\u001b[K     |██████████████████████████████▌ | 9.0 MB 490 kB/s eta 0:00:01\r",
      "\u001b[K     |██████████████████████████████▌ | 9.0 MB 490 kB/s eta 0:00:01"
     ]
    },
    {
     "name": "stdout",
     "output_type": "stream",
     "text": [
      "\r",
      "\u001b[K     |██████████████████████████████▌ | 9.0 MB 490 kB/s eta 0:00:01\r",
      "\u001b[K     |██████████████████████████████▋ | 9.0 MB 490 kB/s eta 0:00:01\r",
      "\u001b[K     |██████████████████████████████▋ | 9.1 MB 490 kB/s eta 0:00:01\r",
      "\u001b[K     |██████████████████████████████▋ | 9.1 MB 490 kB/s eta 0:00:01\r",
      "\u001b[K     |██████████████████████████████▊ | 9.1 MB 490 kB/s eta 0:00:01\r",
      "\u001b[K     |██████████████████████████████▊ | 9.1 MB 490 kB/s eta 0:00:01\r",
      "\u001b[K     |██████████████████████████████▊ | 9.1 MB 490 kB/s eta 0:00:01"
     ]
    },
    {
     "name": "stdout",
     "output_type": "stream",
     "text": [
      "\r",
      "\u001b[K     |██████████████████████████████▉ | 9.1 MB 490 kB/s eta 0:00:01\r",
      "\u001b[K     |██████████████████████████████▉ | 9.1 MB 490 kB/s eta 0:00:01\r",
      "\u001b[K     |██████████████████████████████▉ | 9.1 MB 490 kB/s eta 0:00:01\r",
      "\u001b[K     |██████████████████████████████▉ | 9.1 MB 490 kB/s eta 0:00:01"
     ]
    },
    {
     "name": "stdout",
     "output_type": "stream",
     "text": [
      "\r",
      "\u001b[K     |███████████████████████████████ | 9.1 MB 490 kB/s eta 0:00:01\r",
      "\u001b[K     |███████████████████████████████ | 9.2 MB 490 kB/s eta 0:00:01\r",
      "\u001b[K     |███████████████████████████████ | 9.2 MB 490 kB/s eta 0:00:01\r",
      "\u001b[K     |███████████████████████████████ | 9.2 MB 490 kB/s eta 0:00:01\r",
      "\u001b[K     |███████████████████████████████ | 9.2 MB 490 kB/s eta 0:00:01"
     ]
    },
    {
     "name": "stdout",
     "output_type": "stream",
     "text": [
      "\r",
      "\u001b[K     |███████████████████████████████ | 9.2 MB 490 kB/s eta 0:00:01\r",
      "\u001b[K     |███████████████████████████████▏| 9.2 MB 490 kB/s eta 0:00:01"
     ]
    },
    {
     "name": "stdout",
     "output_type": "stream",
     "text": [
      "\r",
      "\u001b[K     |███████████████████████████████▏| 9.2 MB 490 kB/s eta 0:00:01\r",
      "\u001b[K     |███████████████████████████████▏| 9.2 MB 490 kB/s eta 0:00:01\r",
      "\u001b[K     |███████████████████████████████▎| 9.2 MB 490 kB/s eta 0:00:01\r",
      "\u001b[K     |███████████████████████████████▎| 9.2 MB 490 kB/s eta 0:00:01\r",
      "\u001b[K     |███████████████████████████████▎| 9.3 MB 490 kB/s eta 0:00:01\r",
      "\u001b[K     |███████████████████████████████▎| 9.3 MB 490 kB/s eta 0:00:01\r",
      "\u001b[K     |███████████████████████████████▍| 9.3 MB 490 kB/s eta 0:00:01\r",
      "\u001b[K     |███████████████████████████████▍| 9.3 MB 490 kB/s eta 0:00:01"
     ]
    },
    {
     "name": "stdout",
     "output_type": "stream",
     "text": [
      "\r",
      "\u001b[K     |███████████████████████████████▍| 9.3 MB 490 kB/s eta 0:00:01\r",
      "\u001b[K     |███████████████████████████████▌| 9.3 MB 490 kB/s eta 0:00:01\r",
      "\u001b[K     |███████████████████████████████▌| 9.3 MB 490 kB/s eta 0:00:01\r",
      "\u001b[K     |███████████████████████████████▌| 9.3 MB 490 kB/s eta 0:00:01\r",
      "\u001b[K     |███████████████████████████████▋| 9.3 MB 490 kB/s eta 0:00:01"
     ]
    },
    {
     "name": "stdout",
     "output_type": "stream",
     "text": [
      "\r",
      "\u001b[K     |███████████████████████████████▋| 9.3 MB 490 kB/s eta 0:00:01\r",
      "\u001b[K     |███████████████████████████████▋| 9.4 MB 490 kB/s eta 0:00:01\r",
      "\u001b[K     |███████████████████████████████▊| 9.4 MB 490 kB/s eta 0:00:01\r",
      "\u001b[K     |███████████████████████████████▊| 9.4 MB 490 kB/s eta 0:00:01"
     ]
    },
    {
     "name": "stdout",
     "output_type": "stream",
     "text": [
      "\r",
      "\u001b[K     |███████████████████████████████▊| 9.4 MB 863 kB/s eta 0:00:01\r",
      "\u001b[K     |███████████████████████████████▉| 9.4 MB 863 kB/s eta 0:00:01\r",
      "\u001b[K     |███████████████████████████████▉| 9.4 MB 863 kB/s eta 0:00:01\r",
      "\u001b[K     |███████████████████████████████▉| 9.4 MB 863 kB/s eta 0:00:01\r",
      "\u001b[K     |███████████████████████████████▉| 9.4 MB 863 kB/s eta 0:00:01"
     ]
    },
    {
     "name": "stdout",
     "output_type": "stream",
     "text": [
      "\r",
      "\u001b[K     |████████████████████████████████| 9.4 MB 863 kB/s eta 0:00:01\r",
      "\u001b[K     |████████████████████████████████| 9.5 MB 863 kB/s eta 0:00:01\r",
      "\u001b[K     |████████████████████████████████| 9.5 MB 863 kB/s eta 0:00:01"
     ]
    },
    {
     "name": "stdout",
     "output_type": "stream",
     "text": [
      "\r",
      "\u001b[K     |████████████████████████████████| 9.5 MB 863 kB/s \r\n"
     ]
    },
    {
     "name": "stdout",
     "output_type": "stream",
     "text": [
      "\u001b[?25hRequirement already satisfied, skipping upgrade: numpy>=1.15 in /home/jubayer/.local/lib/python3.7/site-packages (from statsmodels) (1.19.2)\r\n",
      "Requirement already satisfied, skipping upgrade: scipy>=1.1 in /home/jubayer/anaconda3/envs/dsn-template/lib/python3.7/site-packages (from statsmodels) (1.5.4)\r\n"
     ]
    },
    {
     "name": "stdout",
     "output_type": "stream",
     "text": [
      "Collecting patsy>=0.5\r\n"
     ]
    },
    {
     "name": "stdout",
     "output_type": "stream",
     "text": [
      "  Downloading patsy-0.5.1-py2.py3-none-any.whl (231 kB)\r\n",
      "\u001b[?25l\r",
      "\u001b[K     |█▍                              | 10 kB 1.0 MB/s eta 0:00:01"
     ]
    },
    {
     "name": "stdout",
     "output_type": "stream",
     "text": [
      "\r",
      "\u001b[K     |██▉                             | 20 kB 705 kB/s eta 0:00:01\r",
      "\u001b[K     |████▎                           | 30 kB 1.0 MB/s eta 0:00:01\r",
      "\u001b[K     |█████▊                          | 40 kB 966 kB/s eta 0:00:01\r",
      "\u001b[K     |███████                         | 51 kB 859 kB/s eta 0:00:01\r",
      "\u001b[K     |████████▌                       | 61 kB 1.0 MB/s eta 0:00:01"
     ]
    },
    {
     "name": "stdout",
     "output_type": "stream",
     "text": [
      "\r",
      "\u001b[K     |██████████                      | 71 kB 903 kB/s eta 0:00:01\r",
      "\u001b[K     |███████████▍                    | 81 kB 1.0 MB/s eta 0:00:01\r",
      "\u001b[K     |████████████▊                   | 92 kB 1.0 MB/s eta 0:00:01\r",
      "\u001b[K     |██████████████▏                 | 102 kB 969 kB/s eta 0:00:01\r",
      "\u001b[K     |███████████████▋                | 112 kB 969 kB/s eta 0:00:01"
     ]
    },
    {
     "name": "stdout",
     "output_type": "stream",
     "text": [
      "\r",
      "\u001b[K     |█████████████████               | 122 kB 969 kB/s eta 0:00:01\r",
      "\u001b[K     |██████████████████▍             | 133 kB 969 kB/s eta 0:00:01\r",
      "\u001b[K     |███████████████████▉            | 143 kB 969 kB/s eta 0:00:01"
     ]
    },
    {
     "name": "stdout",
     "output_type": "stream",
     "text": [
      "\r",
      "\u001b[K     |█████████████████████▎          | 153 kB 969 kB/s eta 0:00:01\r",
      "\u001b[K     |██████████████████████▊         | 163 kB 969 kB/s eta 0:00:01\r",
      "\u001b[K     |████████████████████████        | 174 kB 969 kB/s eta 0:00:01\r",
      "\u001b[K     |█████████████████████████▌      | 184 kB 969 kB/s eta 0:00:01\r",
      "\u001b[K     |███████████████████████████     | 194 kB 969 kB/s eta 0:00:01\r",
      "\u001b[K     |████████████████████████████▍   | 204 kB 969 kB/s eta 0:00:01\r",
      "\u001b[K     |█████████████████████████████▊  | 215 kB 969 kB/s eta 0:00:01\r",
      "\u001b[K     |███████████████████████████████▏| 225 kB 969 kB/s eta 0:00:01\r",
      "\u001b[K     |████████████████████████████████| 231 kB 969 kB/s \r\n"
     ]
    },
    {
     "name": "stdout",
     "output_type": "stream",
     "text": [
      "\u001b[?25hRequirement already satisfied, skipping upgrade: pandas>=0.21 in /home/jubayer/.local/lib/python3.7/site-packages (from statsmodels) (1.1.2)\r\n"
     ]
    },
    {
     "name": "stdout",
     "output_type": "stream",
     "text": [
      "Requirement already satisfied, skipping upgrade: six in /home/jubayer/anaconda3/envs/dsn-template/lib/python3.7/site-packages (from patsy>=0.5->statsmodels) (1.15.0)\r\n",
      "Requirement already satisfied, skipping upgrade: pytz>=2017.2 in /home/jubayer/anaconda3/envs/dsn-template/lib/python3.7/site-packages (from pandas>=0.21->statsmodels) (2020.4)\r\n",
      "Requirement already satisfied, skipping upgrade: python-dateutil>=2.7.3 in /home/jubayer/anaconda3/envs/dsn-template/lib/python3.7/site-packages (from pandas>=0.21->statsmodels) (2.8.1)\r\n"
     ]
    },
    {
     "name": "stdout",
     "output_type": "stream",
     "text": [
      "Installing collected packages: patsy, statsmodels\r\n"
     ]
    },
    {
     "name": "stdout",
     "output_type": "stream",
     "text": [
      "Successfully installed patsy-0.5.1 statsmodels-0.12.1\r\n"
     ]
    },
    {
     "name": "stdout",
     "output_type": "stream",
     "text": [
      "\u001b[33mWARNING: You are using pip version 20.2.3; however, version 20.3.1 is available.\r\n",
      "You should consider upgrading via the '/home/jubayer/anaconda3/envs/dsn-template/bin/python3.7 -m pip install --upgrade pip' command.\u001b[0m\r\n"
     ]
    }
   ],
   "source": [
    "!pip install -U statsmodels"
   ]
  },
  {
   "cell_type": "code",
   "execution_count": 3,
   "metadata": {},
   "outputs": [],
   "source": [
    "import scipy \n",
    "import statsmodels"
   ]
  },
  {
   "cell_type": "code",
   "execution_count": 4,
   "metadata": {},
   "outputs": [
    {
     "data": {
      "text/plain": [
       "'1.5.4'"
      ]
     },
     "execution_count": 4,
     "metadata": {},
     "output_type": "execute_result"
    }
   ],
   "source": [
    "scipy.__version__"
   ]
  },
  {
   "cell_type": "code",
   "execution_count": 5,
   "metadata": {},
   "outputs": [
    {
     "data": {
      "text/plain": [
       "'0.12.1'"
      ]
     },
     "execution_count": 5,
     "metadata": {},
     "output_type": "execute_result"
    }
   ],
   "source": [
    "statsmodels.__version__"
   ]
  },
  {
   "cell_type": "code",
   "execution_count": 6,
   "metadata": {},
   "outputs": [],
   "source": [
    "import numpy as np\n",
    "import pandas as pd\n",
    "import seaborn as sns\n",
    "import matplotlib.pyplot as plt\n",
    "\n",
    "from scipy import stats\n",
    "from statsmodels.stats.weightstats import DescrStatsW"
   ]
  },
  {
   "cell_type": "code",
   "execution_count": 7,
   "metadata": {},
   "outputs": [
    {
     "data": {
      "text/html": [
       "<div>\n",
       "<style scoped>\n",
       "    .dataframe tbody tr th:only-of-type {\n",
       "        vertical-align: middle;\n",
       "    }\n",
       "\n",
       "    .dataframe tbody tr th {\n",
       "        vertical-align: top;\n",
       "    }\n",
       "\n",
       "    .dataframe thead th {\n",
       "        text-align: right;\n",
       "    }\n",
       "</style>\n",
       "<table border=\"1\" class=\"dataframe\">\n",
       "  <thead>\n",
       "    <tr style=\"text-align: right;\">\n",
       "      <th></th>\n",
       "      <th>YearsExperience</th>\n",
       "      <th>Salary</th>\n",
       "    </tr>\n",
       "  </thead>\n",
       "  <tbody>\n",
       "    <tr>\n",
       "      <th>5</th>\n",
       "      <td>2.3</td>\n",
       "      <td>40200.0</td>\n",
       "    </tr>\n",
       "    <tr>\n",
       "      <th>31</th>\n",
       "      <td>8.7</td>\n",
       "      <td>109431.0</td>\n",
       "    </tr>\n",
       "    <tr>\n",
       "      <th>17</th>\n",
       "      <td>4.0</td>\n",
       "      <td>56957.0</td>\n",
       "    </tr>\n",
       "    <tr>\n",
       "      <th>30</th>\n",
       "      <td>8.2</td>\n",
       "      <td>113812.0</td>\n",
       "    </tr>\n",
       "    <tr>\n",
       "      <th>23</th>\n",
       "      <td>5.9</td>\n",
       "      <td>81363.0</td>\n",
       "    </tr>\n",
       "    <tr>\n",
       "      <th>6</th>\n",
       "      <td>2.3</td>\n",
       "      <td>39000.0</td>\n",
       "    </tr>\n",
       "    <tr>\n",
       "      <th>14</th>\n",
       "      <td>3.7</td>\n",
       "      <td>57189.0</td>\n",
       "    </tr>\n",
       "    <tr>\n",
       "      <th>32</th>\n",
       "      <td>9.0</td>\n",
       "      <td>105582.0</td>\n",
       "    </tr>\n",
       "    <tr>\n",
       "      <th>0</th>\n",
       "      <td>1.1</td>\n",
       "      <td>39343.0</td>\n",
       "    </tr>\n",
       "    <tr>\n",
       "      <th>13</th>\n",
       "      <td>3.2</td>\n",
       "      <td>64445.0</td>\n",
       "    </tr>\n",
       "  </tbody>\n",
       "</table>\n",
       "</div>"
      ],
      "text/plain": [
       "    YearsExperience    Salary\n",
       "5               2.3   40200.0\n",
       "31              8.7  109431.0\n",
       "17              4.0   56957.0\n",
       "30              8.2  113812.0\n",
       "23              5.9   81363.0\n",
       "6               2.3   39000.0\n",
       "14              3.7   57189.0\n",
       "32              9.0  105582.0\n",
       "0               1.1   39343.0\n",
       "13              3.2   64445.0"
      ]
     },
     "execution_count": 7,
     "metadata": {},
     "output_type": "execute_result"
    }
   ],
   "source": [
    "salary_data = pd.read_csv('datasets/Salary_Data.csv')\n",
    "\n",
    "salary_data.sample(10)"
   ]
  },
  {
   "cell_type": "code",
   "execution_count": 8,
   "metadata": {},
   "outputs": [
    {
     "data": {
      "text/plain": [
       "(37, 2)"
      ]
     },
     "execution_count": 8,
     "metadata": {},
     "output_type": "execute_result"
    }
   ],
   "source": [
    "salary_data.shape"
   ]
  },
  {
   "cell_type": "code",
   "execution_count": 9,
   "metadata": {},
   "outputs": [
    {
     "data": {
      "text/plain": [
       "YearsExperience    0\n",
       "Salary             0\n",
       "dtype: int64"
      ]
     },
     "execution_count": 9,
     "metadata": {},
     "output_type": "execute_result"
    }
   ],
   "source": [
    "salary_data.isnull().sum()"
   ]
  },
  {
   "cell_type": "code",
   "execution_count": 10,
   "metadata": {},
   "outputs": [
    {
     "data": {
      "text/plain": [
       "1.1"
      ]
     },
     "execution_count": 10,
     "metadata": {},
     "output_type": "execute_result"
    }
   ],
   "source": [
    "min_exp = np.min(salary_data['YearsExperience'])\n",
    "\n",
    "min_exp"
   ]
  },
  {
   "cell_type": "code",
   "execution_count": 11,
   "metadata": {},
   "outputs": [
    {
     "data": {
      "text/plain": [
       "10.5"
      ]
     },
     "execution_count": 11,
     "metadata": {},
     "output_type": "execute_result"
    }
   ],
   "source": [
    "max_exp = np.max(salary_data['YearsExperience'])\n",
    "\n",
    "max_exp"
   ]
  },
  {
   "cell_type": "code",
   "execution_count": 12,
   "metadata": {},
   "outputs": [
    {
     "data": {
      "text/plain": [
       "37731.0"
      ]
     },
     "execution_count": 12,
     "metadata": {},
     "output_type": "execute_result"
    }
   ],
   "source": [
    "min_salary = np.min(salary_data['Salary'])\n",
    "\n",
    "min_salary"
   ]
  },
  {
   "cell_type": "code",
   "execution_count": 13,
   "metadata": {},
   "outputs": [
    {
     "data": {
      "text/plain": [
       "122391.0"
      ]
     },
     "execution_count": 13,
     "metadata": {},
     "output_type": "execute_result"
    }
   ],
   "source": [
    "max_salary = np.max(salary_data['Salary'])\n",
    "\n",
    "max_salary"
   ]
  },
  {
   "cell_type": "code",
   "execution_count": 14,
   "metadata": {},
   "outputs": [
    {
     "data": {
      "text/plain": [
       "9.4"
      ]
     },
     "execution_count": 14,
     "metadata": {},
     "output_type": "execute_result"
    }
   ],
   "source": [
    "range_of_exp = np.ptp(salary_data['YearsExperience'])\n",
    "\n",
    "range_of_exp"
   ]
  },
  {
   "cell_type": "code",
   "execution_count": 15,
   "metadata": {},
   "outputs": [
    {
     "data": {
      "text/plain": [
       "84660.0"
      ]
     },
     "execution_count": 15,
     "metadata": {},
     "output_type": "execute_result"
    }
   ],
   "source": [
    "range_of_salary = np.ptp(salary_data['Salary'])\n",
    "\n",
    "range_of_salary"
   ]
  },
  {
   "cell_type": "code",
   "execution_count": 16,
   "metadata": {},
   "outputs": [
    {
     "data": {
      "text/plain": [
       "0    39343.0\n",
       "1    46205.0\n",
       "2    37731.0\n",
       "3    43525.0\n",
       "4    39891.0\n",
       "5    40200.0\n",
       "6    39000.0\n",
       "7    56642.0\n",
       "8    60150.0\n",
       "9    60150.0\n",
       "Name: Salary, dtype: float64"
      ]
     },
     "execution_count": 16,
     "metadata": {},
     "output_type": "execute_result"
    }
   ],
   "source": [
    "salary = salary_data['Salary']\n",
    "\n",
    "salary.head(10)"
   ]
  },
  {
   "cell_type": "code",
   "execution_count": 17,
   "metadata": {},
   "outputs": [
    {
     "data": {
      "text/plain": [
       "0    37731.0\n",
       "1    39000.0\n",
       "2    39343.0\n",
       "3    39891.0\n",
       "4    40200.0\n",
       "5    43525.0\n",
       "6    46205.0\n",
       "7    54445.0\n",
       "8    55794.0\n",
       "9    56642.0\n",
       "Name: Salary, dtype: float64"
      ]
     },
     "execution_count": 17,
     "metadata": {},
     "output_type": "execute_result"
    }
   ],
   "source": [
    "sorted_salary = salary.sort_values().reset_index(drop=True)\n",
    "\n",
    "sorted_salary.head(10)"
   ]
  },
  {
   "cell_type": "code",
   "execution_count": 18,
   "metadata": {},
   "outputs": [
    {
     "name": "stderr",
     "output_type": "stream",
     "text": [
      "/home/jubayer/.local/lib/python3.7/site-packages/ipykernel_launcher.py:1: DeprecationWarning: scipy.mean is deprecated and will be removed in SciPy 2.0.0, use numpy.mean instead\n",
      "  \"\"\"Entry point for launching an IPython kernel.\n"
     ]
    },
    {
     "data": {
      "text/plain": [
       "74117.4054054054"
      ]
     },
     "execution_count": 18,
     "metadata": {},
     "output_type": "execute_result"
    }
   ],
   "source": [
    "salary_mean = scipy.mean(salary_data['Salary'])\n",
    "\n",
    "salary_mean"
   ]
  },
  {
   "cell_type": "code",
   "execution_count": 19,
   "metadata": {},
   "outputs": [
    {
     "data": {
      "text/plain": [
       "5.1189189189189195"
      ]
     },
     "execution_count": 19,
     "metadata": {},
     "output_type": "execute_result"
    }
   ],
   "source": [
    "exp_stats = DescrStatsW(salary_data['YearsExperience'])\n",
    "\n",
    "exp_stats.mean"
   ]
  },
  {
   "cell_type": "code",
   "execution_count": 20,
   "metadata": {},
   "outputs": [
    {
     "name": "stderr",
     "output_type": "stream",
     "text": [
      "/home/jubayer/.local/lib/python3.7/site-packages/ipykernel_launcher.py:1: DeprecationWarning: scipy.median is deprecated and will be removed in SciPy 2.0.0, use numpy.median instead\n",
      "  \"\"\"Entry point for launching an IPython kernel.\n"
     ]
    },
    {
     "data": {
      "text/plain": [
       "63218.0"
      ]
     },
     "execution_count": 20,
     "metadata": {},
     "output_type": "execute_result"
    }
   ],
   "source": [
    "salary_median = scipy.median(sorted_salary)\n",
    "\n",
    "salary_median"
   ]
  },
  {
   "cell_type": "code",
   "execution_count": 21,
   "metadata": {},
   "outputs": [
    {
     "name": "stderr",
     "output_type": "stream",
     "text": [
      "/home/jubayer/.local/lib/python3.7/site-packages/ipykernel_launcher.py:1: DeprecationWarning: scipy.median is deprecated and will be removed in SciPy 2.0.0, use numpy.median instead\n",
      "  \"\"\"Entry point for launching an IPython kernel.\n"
     ]
    },
    {
     "data": {
      "text/plain": [
       "63218.0"
      ]
     },
     "execution_count": 21,
     "metadata": {},
     "output_type": "execute_result"
    }
   ],
   "source": [
    "salary_median = scipy.median(salary_data['Salary'])\n",
    "\n",
    "salary_median"
   ]
  },
  {
   "cell_type": "code",
   "execution_count": 22,
   "metadata": {},
   "outputs": [
    {
     "data": {
      "text/plain": [
       "p\n",
       "0.5    4.1\n",
       "dtype: float64"
      ]
     },
     "execution_count": 22,
     "metadata": {},
     "output_type": "execute_result"
    }
   ],
   "source": [
    "exp_stats.quantile(0.5)"
   ]
  },
  {
   "cell_type": "code",
   "execution_count": 23,
   "metadata": {},
   "outputs": [
    {
     "name": "stderr",
     "output_type": "stream",
     "text": [
      "/home/jubayer/anaconda3/envs/dsn-template/lib/python3.7/site-packages/seaborn/distributions.py:2551: FutureWarning: `distplot` is a deprecated function and will be removed in a future version. Please adapt your code to use either `displot` (a figure-level function with similar flexibility) or `histplot` (an axes-level function for histograms).\n",
      "  warnings.warn(msg, FutureWarning)\n"
     ]
    },
    {
     "data": {
      "text/plain": [
       "<AxesSubplot:xlabel='Salary', ylabel='Density'>"
      ]
     },
     "execution_count": 23,
     "metadata": {},
     "output_type": "execute_result"
    },
    {
     "data": {
      "image/png": "[encoded data removed]",
      "text/plain": [
       "<Figure size 864x576 with 1 Axes>"
      ]
     },
     "metadata": {
      "needs_background": "light"
     },
     "output_type": "display_data"
    }
   ],
   "source": [
    "plt.figure(figsize=(12, 8))\n",
    "\n",
    "sns.distplot(salary_data['Salary'])"
   ]
  },
  {
   "cell_type": "code",
   "execution_count": 24,
   "metadata": {},
   "outputs": [
    {
     "name": "stderr",
     "output_type": "stream",
     "text": [
      "/home/jubayer/anaconda3/envs/dsn-template/lib/python3.7/site-packages/seaborn/distributions.py:2551: FutureWarning: `distplot` is a deprecated function and will be removed in a future version. Please adapt your code to use either `displot` (a figure-level function with similar flexibility) or `histplot` (an axes-level function for histograms).\n",
      "  warnings.warn(msg, FutureWarning)\n"
     ]
    },
    {
     "data": {
      "text/plain": [
       "<AxesSubplot:xlabel='YearsExperience', ylabel='Density'>"
      ]
     },
     "execution_count": 24,
     "metadata": {},
     "output_type": "execute_result"
    },
    {
     "data": {
      "image/png": "[encoded data removed]",
      "text/plain": [
       "<Figure size 864x576 with 1 Axes>"
      ]
     },
     "metadata": {
      "needs_background": "light"
     },
     "output_type": "display_data"
    }
   ],
   "source": [
    "plt.figure(figsize=(12, 8))\n",
    "\n",
    "sns.distplot(salary_data['YearsExperience'])"
   ]
  },
  {
   "cell_type": "code",
   "execution_count": 25,
   "metadata": {},
   "outputs": [
    {
     "name": "stderr",
     "output_type": "stream",
     "text": [
      "/home/jubayer/anaconda3/envs/dsn-template/lib/python3.7/site-packages/seaborn/distributions.py:2551: FutureWarning: `distplot` is a deprecated function and will be removed in a future version. Please adapt your code to use either `displot` (a figure-level function with similar flexibility) or `histplot` (an axes-level function for histograms).\n",
      "  warnings.warn(msg, FutureWarning)\n"
     ]
    },
    {
     "data": {
      "text/plain": [
       "<matplotlib.legend.Legend at 0x7f61ecf48350>"
      ]
     },
     "execution_count": 25,
     "metadata": {},
     "output_type": "execute_result"
    },
    {
     "data": {
      "image/png": "[encoded data removed]",
      "text/plain": [
       "<Figure size 864x576 with 1 Axes>"
      ]
     },
     "metadata": {
      "needs_background": "light"
     },
     "output_type": "display_data"
    }
   ],
   "source": [
    "plt.figure(figsize=(12, 8))\n",
    "\n",
    "sns.distplot(salary_data['Salary'])\n",
    "\n",
    "plt.axvline(salary_mean, color='r', label='mean')\n",
    "plt.axvline(salary_median, color='b', label='median')\n",
    "\n",
    "plt.legend()"
   ]
  },
  {
   "cell_type": "code",
   "execution_count": 26,
   "metadata": {},
   "outputs": [
    {
     "data": {
      "image/png": "[encoded data removed]",
      "text/plain": [
       "<Figure size 864x576 with 1 Axes>"
      ]
     },
     "metadata": {
      "needs_background": "light"
     },
     "output_type": "display_data"
    }
   ],
   "source": [
    "plt.figure(figsize=(12, 8))\n",
    "\n",
    "sns.barplot(x='YearsExperience', y='Salary', data=salary_data)\n",
    "\n",
    "plt.axhline(salary_mean, color='r', label='mean')\n",
    "plt.axhline(salary_median, color='b', label='median')\n",
    "\n",
    "plt.legend()\n",
    "\n",
    "plt.show()"
   ]
  },
  {
   "cell_type": "code",
   "execution_count": 27,
   "metadata": {},
   "outputs": [],
   "source": [
    "listOfSeries = [pd.Series([20, 250000], index=salary_data.columns ), \n",
    "                pd.Series([25, 270000], index=salary_data.columns ), \n",
    "                pd.Series([30, 320000], index=salary_data.columns )]"
   ]
  },
  {
   "cell_type": "code",
   "execution_count": 28,
   "metadata": {},
   "outputs": [
    {
     "data": {
      "text/html": [
       "<div>\n",
       "<style scoped>\n",
       "    .dataframe tbody tr th:only-of-type {\n",
       "        vertical-align: middle;\n",
       "    }\n",
       "\n",
       "    .dataframe tbody tr th {\n",
       "        vertical-align: top;\n",
       "    }\n",
       "\n",
       "    .dataframe thead th {\n",
       "        text-align: right;\n",
       "    }\n",
       "</style>\n",
       "<table border=\"1\" class=\"dataframe\">\n",
       "  <thead>\n",
       "    <tr style=\"text-align: right;\">\n",
       "      <th></th>\n",
       "      <th>YearsExperience</th>\n",
       "      <th>Salary</th>\n",
       "    </tr>\n",
       "  </thead>\n",
       "  <tbody>\n",
       "    <tr>\n",
       "      <th>35</th>\n",
       "      <td>10.3</td>\n",
       "      <td>122391.0</td>\n",
       "    </tr>\n",
       "    <tr>\n",
       "      <th>36</th>\n",
       "      <td>10.5</td>\n",
       "      <td>121872.0</td>\n",
       "    </tr>\n",
       "    <tr>\n",
       "      <th>37</th>\n",
       "      <td>20.0</td>\n",
       "      <td>250000.0</td>\n",
       "    </tr>\n",
       "    <tr>\n",
       "      <th>38</th>\n",
       "      <td>25.0</td>\n",
       "      <td>270000.0</td>\n",
       "    </tr>\n",
       "    <tr>\n",
       "      <th>39</th>\n",
       "      <td>30.0</td>\n",
       "      <td>320000.0</td>\n",
       "    </tr>\n",
       "  </tbody>\n",
       "</table>\n",
       "</div>"
      ],
      "text/plain": [
       "    YearsExperience    Salary\n",
       "35             10.3  122391.0\n",
       "36             10.5  121872.0\n",
       "37             20.0  250000.0\n",
       "38             25.0  270000.0\n",
       "39             30.0  320000.0"
      ]
     },
     "execution_count": 28,
     "metadata": {},
     "output_type": "execute_result"
    }
   ],
   "source": [
    "salary_updated = salary_data.append(listOfSeries , ignore_index=True)\n",
    "\n",
    "salary_updated.tail()"
   ]
  },
  {
   "cell_type": "code",
   "execution_count": 29,
   "metadata": {},
   "outputs": [
    {
     "name": "stderr",
     "output_type": "stream",
     "text": [
      "/home/jubayer/.local/lib/python3.7/site-packages/ipykernel_launcher.py:1: DeprecationWarning: scipy.mean is deprecated and will be removed in SciPy 2.0.0, use numpy.mean instead\n",
      "  \"\"\"Entry point for launching an IPython kernel.\n"
     ]
    },
    {
     "data": {
      "text/plain": [
       "89558.6"
      ]
     },
     "execution_count": 29,
     "metadata": {},
     "output_type": "execute_result"
    }
   ],
   "source": [
    "salary_updated_mean = scipy.mean(salary_updated['Salary'])\n",
    "\n",
    "salary_updated_mean"
   ]
  },
  {
   "cell_type": "code",
   "execution_count": 30,
   "metadata": {},
   "outputs": [
    {
     "data": {
      "text/plain": [
       "74117.4054054054"
      ]
     },
     "execution_count": 30,
     "metadata": {},
     "output_type": "execute_result"
    }
   ],
   "source": [
    "salary_mean"
   ]
  },
  {
   "cell_type": "code",
   "execution_count": 31,
   "metadata": {},
   "outputs": [
    {
     "name": "stderr",
     "output_type": "stream",
     "text": [
      "/home/jubayer/.local/lib/python3.7/site-packages/ipykernel_launcher.py:1: DeprecationWarning: scipy.median is deprecated and will be removed in SciPy 2.0.0, use numpy.median instead\n",
      "  \"\"\"Entry point for launching an IPython kernel.\n"
     ]
    },
    {
     "data": {
      "text/plain": [
       "65237.0"
      ]
     },
     "execution_count": 31,
     "metadata": {},
     "output_type": "execute_result"
    }
   ],
   "source": [
    "salary_updated_median = scipy.median(salary_updated['Salary'])\n",
    "\n",
    "salary_updated_median"
   ]
  },
  {
   "cell_type": "code",
   "execution_count": 32,
   "metadata": {},
   "outputs": [
    {
     "data": {
      "text/plain": [
       "63218.0"
      ]
     },
     "execution_count": 32,
     "metadata": {},
     "output_type": "execute_result"
    }
   ],
   "source": [
    "salary_median"
   ]
  },
  {
   "cell_type": "code",
   "execution_count": 33,
   "metadata": {},
   "outputs": [
    {
     "name": "stderr",
     "output_type": "stream",
     "text": [
      "/home/jubayer/anaconda3/envs/dsn-template/lib/python3.7/site-packages/seaborn/distributions.py:2551: FutureWarning: `distplot` is a deprecated function and will be removed in a future version. Please adapt your code to use either `displot` (a figure-level function with similar flexibility) or `histplot` (an axes-level function for histograms).\n",
      "  warnings.warn(msg, FutureWarning)\n"
     ]
    },
    {
     "data": {
      "text/plain": [
       "<matplotlib.legend.Legend at 0x7f61eca9d910>"
      ]
     },
     "execution_count": 33,
     "metadata": {},
     "output_type": "execute_result"
    },
    {
     "data": {
      "image/png": "[encoded data removed]",
      "text/plain": [
       "<Figure size 864x576 with 1 Axes>"
      ]
     },
     "metadata": {
      "needs_background": "light"
     },
     "output_type": "display_data"
    }
   ],
   "source": [
    "plt.figure(figsize=(12, 8))\n",
    "\n",
    "sns.distplot(salary_updated['Salary'])\n",
    "\n",
    "plt.axvline(salary_updated_mean, color='r', label='mean')\n",
    "plt.axvline(salary_updated_median, color='b', label='median')\n",
    "\n",
    "plt.legend()"
   ]
  },
  {
   "cell_type": "code",
   "execution_count": 34,
   "metadata": {},
   "outputs": [
    {
     "name": "stderr",
     "output_type": "stream",
     "text": [
      "/home/jubayer/anaconda3/envs/dsn-template/lib/python3.7/site-packages/seaborn/distributions.py:2551: FutureWarning: `distplot` is a deprecated function and will be removed in a future version. Please adapt your code to use either `displot` (a figure-level function with similar flexibility) or `histplot` (an axes-level function for histograms).\n",
      "  warnings.warn(msg, FutureWarning)\n",
      "/home/jubayer/anaconda3/envs/dsn-template/lib/python3.7/site-packages/seaborn/distributions.py:2551: FutureWarning: `distplot` is a deprecated function and will be removed in a future version. Please adapt your code to use either `displot` (a figure-level function with similar flexibility) or `histplot` (an axes-level function for histograms).\n",
      "  warnings.warn(msg, FutureWarning)\n"
     ]
    },
    {
     "data": {
      "text/plain": [
       "<matplotlib.legend.Legend at 0x7f61ec9cd950>"
      ]
     },
     "execution_count": 34,
     "metadata": {},
     "output_type": "execute_result"
    },
    {
     "data": {
      "image/png": "[encoded data removed]",
      "text/plain": [
       "<Figure size 864x576 with 1 Axes>"
      ]
     },
     "metadata": {
      "needs_background": "light"
     },
     "output_type": "display_data"
    }
   ],
   "source": [
    "plt.figure(figsize=(12, 8))\n",
    "\n",
    "sns.distplot(salary_data['Salary'], hist_kws={'alpha':0.2}, color='grey')\n",
    "sns.distplot(salary_updated['Salary'], hist_kws={'alpha':0.8}, color='green')\n",
    "\n",
    "plt.axvline(salary_mean, color='grey', label='mean')\n",
    "plt.axvline(salary_updated_mean, color='green', label='median')\n",
    "\n",
    "plt.legend()"
   ]
  },
  {
   "cell_type": "code",
   "execution_count": 35,
   "metadata": {},
   "outputs": [
    {
     "name": "stderr",
     "output_type": "stream",
     "text": [
      "/home/jubayer/anaconda3/envs/dsn-template/lib/python3.7/site-packages/seaborn/distributions.py:2551: FutureWarning: `distplot` is a deprecated function and will be removed in a future version. Please adapt your code to use either `displot` (a figure-level function with similar flexibility) or `histplot` (an axes-level function for histograms).\n",
      "  warnings.warn(msg, FutureWarning)\n",
      "/home/jubayer/anaconda3/envs/dsn-template/lib/python3.7/site-packages/seaborn/distributions.py:2551: FutureWarning: `distplot` is a deprecated function and will be removed in a future version. Please adapt your code to use either `displot` (a figure-level function with similar flexibility) or `histplot` (an axes-level function for histograms).\n",
      "  warnings.warn(msg, FutureWarning)\n"
     ]
    },
    {
     "data": {
      "text/plain": [
       "<matplotlib.legend.Legend at 0x7f61ece62e90>"
      ]
     },
     "execution_count": 35,
     "metadata": {},
     "output_type": "execute_result"
    },
    {
     "data": {
      "image/png": "[encoded data removed]",
      "text/plain": [
       "<Figure size 864x576 with 1 Axes>"
      ]
     },
     "metadata": {
      "needs_background": "light"
     },
     "output_type": "display_data"
    }
   ],
   "source": [
    "plt.figure(figsize=(12, 8))\n",
    "\n",
    "sns.distplot(salary_data['Salary'], hist_kws={'alpha':0.2}, color='grey')\n",
    "sns.distplot(salary_updated['Salary'], hist_kws={'alpha':0.8}, color='green')\n",
    "\n",
    "plt.axvline(salary_median, color='grey', label='mean')\n",
    "plt.axvline(salary_updated_median, color='green', label='median')\n",
    "\n",
    "plt.legend()"
   ]
  },
  {
   "cell_type": "code",
   "execution_count": 36,
   "metadata": {},
   "outputs": [
    {
     "data": {
      "image/png": "[encoded data removed]",
      "text/plain": [
       "<Figure size 864x576 with 1 Axes>"
      ]
     },
     "metadata": {
      "needs_background": "light"
     },
     "output_type": "display_data"
    }
   ],
   "source": [
    "plt.figure(figsize=(12, 8))\n",
    "\n",
    "sns.barplot(x='YearsExperience', y='Salary', data=salary_updated)\n",
    "\n",
    "plt.axhline(salary_updated_mean, color='r', label='mean')\n",
    "plt.axhline(salary_updated_median, color='b', label='median')\n",
    "plt.xticks(rotation=90)\n",
    "\n",
    "plt.legend()\n",
    "\n",
    "plt.show()"
   ]
  },
  {
   "cell_type": "code",
   "execution_count": 37,
   "metadata": {},
   "outputs": [
    {
     "data": {
      "text/plain": [
       "ModeResult(mode=array([3.]), count=array([4]))"
      ]
     },
     "execution_count": 37,
     "metadata": {},
     "output_type": "execute_result"
    }
   ],
   "source": [
    "stats.mode(salary_data['YearsExperience'])"
   ]
  },
  {
   "cell_type": "code",
   "execution_count": 38,
   "metadata": {},
   "outputs": [
    {
     "data": {
      "text/plain": [
       "ModeResult(mode=array([60150.]), count=array([4]))"
      ]
     },
     "execution_count": 38,
     "metadata": {},
     "output_type": "execute_result"
    }
   ],
   "source": [
    "stats.mode(salary_data['Salary'])"
   ]
  },
  {
   "cell_type": "code",
   "execution_count": 39,
   "metadata": {},
   "outputs": [
    {
     "name": "stderr",
     "output_type": "stream",
     "text": [
      "/home/jubayer/anaconda3/envs/dsn-template/lib/python3.7/site-packages/seaborn/_decorators.py:43: FutureWarning: Pass the following variable as a keyword arg: x. From version 0.12, the only valid positional argument will be `data`, and passing other arguments without an explicit keyword will result in an error or misinterpretation.\n",
      "  FutureWarning\n"
     ]
    },
    {
     "data": {
      "text/plain": [
       "<AxesSubplot:xlabel='YearsExperience', ylabel='count'>"
      ]
     },
     "execution_count": 39,
     "metadata": {},
     "output_type": "execute_result"
    },
    {
     "data": {
      "image/png": "[encoded data removed]",
      "text/plain": [
       "<Figure size 864x576 with 1 Axes>"
      ]
     },
     "metadata": {
      "needs_background": "light"
     },
     "output_type": "display_data"
    }
   ],
   "source": [
    "plt.figure(figsize=(12, 8))\n",
    "\n",
    "sns.countplot(salary_data['YearsExperience'])"
   ]
  },
  {
   "cell_type": "code",
   "execution_count": 40,
   "metadata": {},
   "outputs": [
    {
     "name": "stderr",
     "output_type": "stream",
     "text": [
      "/home/jubayer/anaconda3/envs/dsn-template/lib/python3.7/site-packages/seaborn/_decorators.py:43: FutureWarning: Pass the following variable as a keyword arg: x. From version 0.12, the only valid positional argument will be `data`, and passing other arguments without an explicit keyword will result in an error or misinterpretation.\n",
      "  FutureWarning\n"
     ]
    },
    {
     "data": {
      "text/plain": [
       "(array([ 0,  1,  2,  3,  4,  5,  6,  7,  8,  9, 10, 11, 12, 13, 14, 15, 16,\n",
       "        17, 18, 19, 20, 21, 22, 23, 24, 25, 26, 27, 28, 29, 30, 31]),\n",
       " [Text(0, 0, '37731.0'),\n",
       "  Text(1, 0, '39000.0'),\n",
       "  Text(2, 0, '39343.0'),\n",
       "  Text(3, 0, '39891.0'),\n",
       "  Text(4, 0, '40200.0'),\n",
       "  Text(5, 0, '43525.0'),\n",
       "  Text(6, 0, '46205.0'),\n",
       "  Text(7, 0, '54445.0'),\n",
       "  Text(8, 0, '55794.0'),\n",
       "  Text(9, 0, '56642.0'),\n",
       "  Text(10, 0, '56957.0'),\n",
       "  Text(11, 0, '57081.0'),\n",
       "  Text(12, 0, '57189.0'),\n",
       "  Text(13, 0, '60150.0'),\n",
       "  Text(14, 0, '61111.0'),\n",
       "  Text(15, 0, '63218.0'),\n",
       "  Text(16, 0, '64445.0'),\n",
       "  Text(17, 0, '66029.0'),\n",
       "  Text(18, 0, '67938.0'),\n",
       "  Text(19, 0, '81363.0'),\n",
       "  Text(20, 0, '83088.0'),\n",
       "  Text(21, 0, '91738.0'),\n",
       "  Text(22, 0, '93940.0'),\n",
       "  Text(23, 0, '98273.0'),\n",
       "  Text(24, 0, '101302.0'),\n",
       "  Text(25, 0, '105582.0'),\n",
       "  Text(26, 0, '109431.0'),\n",
       "  Text(27, 0, '112635.0'),\n",
       "  Text(28, 0, '113812.0'),\n",
       "  Text(29, 0, '116969.0'),\n",
       "  Text(30, 0, '121872.0'),\n",
       "  Text(31, 0, '122391.0')])"
      ]
     },
     "execution_count": 40,
     "metadata": {},
     "output_type": "execute_result"
    },
    {
     "data": {
      "image/png": "[encoded data removed]",
      "text/plain": [
       "<Figure size 864x576 with 1 Axes>"
      ]
     },
     "metadata": {
      "needs_background": "light"
     },
     "output_type": "display_data"
    }
   ],
   "source": [
    "plt.figure(figsize=(12, 8))\n",
    "\n",
    "sns.countplot(salary_data['Salary'])\n",
    "\n",
    "plt.xticks(rotation=90)"
   ]
  },
  {
   "cell_type": "code",
   "execution_count": null,
   "metadata": {},
   "outputs": [],
   "source": []
  },
  {
   "cell_type": "code",
   "execution_count": null,
   "metadata": {},
   "outputs": [],
   "source": []
  },
  {
   "cell_type": "code",
   "execution_count": null,
   "metadata": {},
   "outputs": [],
   "source": []
  },
  {
   "cell_type": "code",
   "execution_count": null,
   "metadata": {},
   "outputs": [],
   "source": []
  },
  {
   "cell_type": "code",
   "execution_count": null,
   "metadata": {},
   "outputs": [],
   "source": []
  },
  {
   "cell_type": "code",
   "execution_count": null,
   "metadata": {},
   "outputs": [],
   "source": []
  },
  {
   "cell_type": "code",
   "execution_count": null,
   "metadata": {},
   "outputs": [],
   "source": []
  },
  {
   "cell_type": "code",
   "execution_count": null,
   "metadata": {},
   "outputs": [],
   "source": []
  },
  {
   "cell_type": "code",
   "execution_count": null,
   "metadata": {},
   "outputs": [],
   "source": []
  },
  {
   "cell_type": "code",
   "execution_count": null,
   "metadata": {},
   "outputs": [],
   "source": []
  },
  {
   "cell_type": "code",
   "execution_count": null,
   "metadata": {},
   "outputs": [],
   "source": []
  },
  {
   "cell_type": "code",
   "execution_count": null,
   "metadata": {},
   "outputs": [],
   "source": []
  },
  {
   "cell_type": "code",
   "execution_count": null,
   "metadata": {},
   "outputs": [],
   "source": []
  },
  {
   "cell_type": "code",
   "execution_count": null,
   "metadata": {},
   "outputs": [],
   "source": []
  },
  {
   "cell_type": "code",
   "execution_count": null,
   "metadata": {},
   "outputs": [],
   "source": []
  },
  {
   "cell_type": "code",
   "execution_count": null,
   "metadata": {},
   "outputs": [],
   "source": []
  }
 ],
 "metadata": {
  "kernelspec": {
   "display_name": "Python 3",
   "language": "python",
   "name": "python3"
  },
  "language_info": {
   "codemirror_mode": {
    "name": "ipython",
    "version": 3
   },
   "file_extension": ".py",
   "mimetype": "text/x-python",
   "name": "python",
   "nbconvert_exporter": "python",
   "pygments_lexer": "ipython3",
   "version": "3.7.8"
  }
 },
 "nbformat": 4,
 "nbformat_minor": 2
}